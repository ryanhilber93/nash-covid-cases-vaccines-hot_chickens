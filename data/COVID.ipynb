{
 "cells": [
  {
   "cell_type": "code",
   "execution_count": 58,
   "metadata": {},
   "outputs": [],
   "source": [
    "import pandas as pd\n",
    "import matplotlib.pyplot as plt\n",
    "import seaborn as sns\n",
    "import numpy as np\n",
    "\n",
    "%matplotlib inline "
   ]
  },
  {
   "cell_type": "code",
   "execution_count": 59,
   "metadata": {},
   "outputs": [],
   "source": [
    "COVID_zip = pd.read_csv('COVID_CountByZipPerDate 03292021.csv')"
   ]
  },
  {
   "cell_type": "code",
   "execution_count": 60,
   "metadata": {},
   "outputs": [],
   "source": [
    "vax_protocol = pd.read_csv('vaccine_with_protocol.csv')"
   ]
  },
  {
   "cell_type": "code",
   "execution_count": 61,
   "metadata": {},
   "outputs": [
    {
     "data": {
      "text/html": [
       "<div>\n",
       "<style scoped>\n",
       "    .dataframe tbody tr th:only-of-type {\n",
       "        vertical-align: middle;\n",
       "    }\n",
       "\n",
       "    .dataframe tbody tr th {\n",
       "        vertical-align: top;\n",
       "    }\n",
       "\n",
       "    .dataframe thead th {\n",
       "        text-align: right;\n",
       "    }\n",
       "</style>\n",
       "<table border=\"1\" class=\"dataframe\">\n",
       "  <thead>\n",
       "    <tr style=\"text-align: right;\">\n",
       "      <th></th>\n",
       "      <th>Specimen Collection Date</th>\n",
       "      <th>Zip</th>\n",
       "      <th>Cases</th>\n",
       "    </tr>\n",
       "  </thead>\n",
       "  <tbody>\n",
       "    <tr>\n",
       "      <th>0</th>\n",
       "      <td>3/6/2020</td>\n",
       "      <td>37217.0</td>\n",
       "      <td>1</td>\n",
       "    </tr>\n",
       "    <tr>\n",
       "      <th>1</th>\n",
       "      <td>3/10/2020</td>\n",
       "      <td>37214.0</td>\n",
       "      <td>1</td>\n",
       "    </tr>\n",
       "    <tr>\n",
       "      <th>2</th>\n",
       "      <td>3/11/2020</td>\n",
       "      <td>37013.0</td>\n",
       "      <td>1</td>\n",
       "    </tr>\n",
       "    <tr>\n",
       "      <th>3</th>\n",
       "      <td>3/11/2020</td>\n",
       "      <td>37204.0</td>\n",
       "      <td>2</td>\n",
       "    </tr>\n",
       "    <tr>\n",
       "      <th>4</th>\n",
       "      <td>3/11/2020</td>\n",
       "      <td>37205.0</td>\n",
       "      <td>1</td>\n",
       "    </tr>\n",
       "    <tr>\n",
       "      <th>5</th>\n",
       "      <td>3/11/2020</td>\n",
       "      <td>37210.0</td>\n",
       "      <td>1</td>\n",
       "    </tr>\n",
       "    <tr>\n",
       "      <th>6</th>\n",
       "      <td>3/11/2020</td>\n",
       "      <td>37212.0</td>\n",
       "      <td>2</td>\n",
       "    </tr>\n",
       "    <tr>\n",
       "      <th>7</th>\n",
       "      <td>3/11/2020</td>\n",
       "      <td>37214.0</td>\n",
       "      <td>1</td>\n",
       "    </tr>\n",
       "    <tr>\n",
       "      <th>8</th>\n",
       "      <td>3/11/2020</td>\n",
       "      <td>37215.0</td>\n",
       "      <td>3</td>\n",
       "    </tr>\n",
       "    <tr>\n",
       "      <th>9</th>\n",
       "      <td>3/12/2020</td>\n",
       "      <td>NaN</td>\n",
       "      <td>1</td>\n",
       "    </tr>\n",
       "  </tbody>\n",
       "</table>\n",
       "</div>"
      ],
      "text/plain": [
       "  Specimen Collection Date      Zip  Cases\n",
       "0                 3/6/2020  37217.0      1\n",
       "1                3/10/2020  37214.0      1\n",
       "2                3/11/2020  37013.0      1\n",
       "3                3/11/2020  37204.0      2\n",
       "4                3/11/2020  37205.0      1\n",
       "5                3/11/2020  37210.0      1\n",
       "6                3/11/2020  37212.0      2\n",
       "7                3/11/2020  37214.0      1\n",
       "8                3/11/2020  37215.0      3\n",
       "9                3/12/2020      NaN      1"
      ]
     },
     "execution_count": 61,
     "metadata": {},
     "output_type": "execute_result"
    }
   ],
   "source": [
    "COVID_zip.head(10)"
   ]
  },
  {
   "cell_type": "code",
   "execution_count": 62,
   "metadata": {},
   "outputs": [
    {
     "data": {
      "text/html": [
       "<div>\n",
       "<style scoped>\n",
       "    .dataframe tbody tr th:only-of-type {\n",
       "        vertical-align: middle;\n",
       "    }\n",
       "\n",
       "    .dataframe tbody tr th {\n",
       "        vertical-align: top;\n",
       "    }\n",
       "\n",
       "    .dataframe thead th {\n",
       "        text-align: right;\n",
       "    }\n",
       "</style>\n",
       "<table border=\"1\" class=\"dataframe\">\n",
       "  <thead>\n",
       "    <tr style=\"text-align: right;\">\n",
       "      <th></th>\n",
       "      <th>vacc_date</th>\n",
       "      <th>zipcode</th>\n",
       "      <th>count_given</th>\n",
       "      <th>dose_nbr</th>\n",
       "      <th>protocol</th>\n",
       "    </tr>\n",
       "  </thead>\n",
       "  <tbody>\n",
       "    <tr>\n",
       "      <th>0</th>\n",
       "      <td>2020-12-12</td>\n",
       "      <td>37215.0</td>\n",
       "      <td>1.0</td>\n",
       "      <td>1.0</td>\n",
       "      <td>two-shot</td>\n",
       "    </tr>\n",
       "    <tr>\n",
       "      <th>1</th>\n",
       "      <td>2020-12-14</td>\n",
       "      <td>37205.0</td>\n",
       "      <td>1.0</td>\n",
       "      <td>2.0</td>\n",
       "      <td>two-shot</td>\n",
       "    </tr>\n",
       "    <tr>\n",
       "      <th>2</th>\n",
       "      <td>2020-12-14</td>\n",
       "      <td>37215.0</td>\n",
       "      <td>1.0</td>\n",
       "      <td>1.0</td>\n",
       "      <td>two-shot</td>\n",
       "    </tr>\n",
       "    <tr>\n",
       "      <th>3</th>\n",
       "      <td>2020-12-15</td>\n",
       "      <td>37221.0</td>\n",
       "      <td>1.0</td>\n",
       "      <td>1.0</td>\n",
       "      <td>two-shot</td>\n",
       "    </tr>\n",
       "    <tr>\n",
       "      <th>4</th>\n",
       "      <td>2020-12-16</td>\n",
       "      <td>37215.0</td>\n",
       "      <td>1.0</td>\n",
       "      <td>1.0</td>\n",
       "      <td>two-shot</td>\n",
       "    </tr>\n",
       "  </tbody>\n",
       "</table>\n",
       "</div>"
      ],
      "text/plain": [
       "    vacc_date  zipcode  count_given  dose_nbr  protocol\n",
       "0  2020-12-12  37215.0          1.0       1.0  two-shot\n",
       "1  2020-12-14  37205.0          1.0       2.0  two-shot\n",
       "2  2020-12-14  37215.0          1.0       1.0  two-shot\n",
       "3  2020-12-15  37221.0          1.0       1.0  two-shot\n",
       "4  2020-12-16  37215.0          1.0       1.0  two-shot"
      ]
     },
     "execution_count": 62,
     "metadata": {},
     "output_type": "execute_result"
    }
   ],
   "source": [
    "vax_protocol.head()"
   ]
  },
  {
   "cell_type": "code",
   "execution_count": 63,
   "metadata": {},
   "outputs": [
    {
     "name": "stdout",
     "output_type": "stream",
     "text": [
      "<class 'pandas.core.frame.DataFrame'>\n",
      "RangeIndex: 8832 entries, 0 to 8831\n",
      "Data columns (total 3 columns):\n",
      " #   Column                    Non-Null Count  Dtype  \n",
      "---  ------                    --------------  -----  \n",
      " 0   Specimen Collection Date  8832 non-null   object \n",
      " 1   Zip                       8456 non-null   float64\n",
      " 2   Cases                     8832 non-null   int64  \n",
      "dtypes: float64(1), int64(1), object(1)\n",
      "memory usage: 207.1+ KB\n"
     ]
    }
   ],
   "source": [
    "COVID_zip.info()"
   ]
  },
  {
   "cell_type": "code",
   "execution_count": 64,
   "metadata": {},
   "outputs": [
    {
     "name": "stdout",
     "output_type": "stream",
     "text": [
      "<class 'pandas.core.frame.DataFrame'>\n",
      "RangeIndex: 6694 entries, 0 to 6693\n",
      "Data columns (total 5 columns):\n",
      " #   Column       Non-Null Count  Dtype  \n",
      "---  ------       --------------  -----  \n",
      " 0   vacc_date    6694 non-null   object \n",
      " 1   zipcode      6462 non-null   float64\n",
      " 2   count_given  6686 non-null   float64\n",
      " 3   dose_nbr     6686 non-null   float64\n",
      " 4   protocol     6694 non-null   object \n",
      "dtypes: float64(3), object(2)\n",
      "memory usage: 261.6+ KB\n"
     ]
    }
   ],
   "source": [
    "vax_protocol.info()"
   ]
  },
  {
   "cell_type": "code",
   "execution_count": 65,
   "metadata": {},
   "outputs": [
    {
     "data": {
      "text/plain": [
       "Specimen Collection Date    8832\n",
       "Zip                         8456\n",
       "Cases                       8832\n",
       "dtype: int64"
      ]
     },
     "execution_count": 65,
     "metadata": {},
     "output_type": "execute_result"
    }
   ],
   "source": [
    "COVID_zip.count()"
   ]
  },
  {
   "cell_type": "code",
   "execution_count": 72,
   "metadata": {},
   "outputs": [
    {
     "data": {
      "text/plain": [
       "vacc_date      6694\n",
       "zipcode        6462\n",
       "count_given    6686\n",
       "dose_nbr       6686\n",
       "protocol       6694\n",
       "dtype: int64"
      ]
     },
     "execution_count": 72,
     "metadata": {},
     "output_type": "execute_result"
    }
   ],
   "source": [
    "vax_protocol.count()"
   ]
  },
  {
   "cell_type": "code",
   "execution_count": 83,
   "metadata": {},
   "outputs": [
    {
     "data": {
      "text/plain": [
       "1      1453\n",
       "2      1044\n",
       "3       763\n",
       "4       635\n",
       "5       529\n",
       "       ... \n",
       "91        1\n",
       "83        1\n",
       "146       1\n",
       "114       1\n",
       "179       1\n",
       "Name: Cases, Length: 131, dtype: int64"
      ]
     },
     "execution_count": 83,
     "metadata": {},
     "output_type": "execute_result"
    }
   ],
   "source": [
    "pd.value_counts(COVID_zip['Cases'])"
   ]
  },
  {
   "cell_type": "code",
   "execution_count": 84,
   "metadata": {},
   "outputs": [
    {
     "data": {
      "text/plain": [
       "37013.0    382\n",
       "37211.0    379\n",
       "37209.0    364\n",
       "37217.0    362\n",
       "37115.0    361\n",
       "37207.0    361\n",
       "37076.0    357\n",
       "37214.0    355\n",
       "37203.0    344\n",
       "37221.0    342\n",
       "37206.0    340\n",
       "37072.0    338\n",
       "37208.0    338\n",
       "37210.0    336\n",
       "37205.0    330\n",
       "37138.0    323\n",
       "37218.0    321\n",
       "37216.0    318\n",
       "37215.0    317\n",
       "37212.0    313\n",
       "37204.0    306\n",
       "37220.0    214\n",
       "37189.0    211\n",
       "37080.0    192\n",
       "37228.0    168\n",
       "37201.0    153\n",
       "37219.0    140\n",
       "37027.0    132\n",
       "37213.0     43\n",
       "37069.0     13\n",
       "37238.0      3\n",
       "Name: Zip, dtype: int64"
      ]
     },
     "execution_count": 84,
     "metadata": {},
     "output_type": "execute_result"
    }
   ],
   "source": [
    "pd.value_counts(COVID_zip['Zip'])"
   ]
  },
  {
   "cell_type": "code",
   "execution_count": 89,
   "metadata": {},
   "outputs": [
    {
     "data": {
      "text/plain": [
       "zipcode\n",
       "37013.0    27167.0\n",
       "37027.0      506.0\n",
       "37069.0       89.0\n",
       "37072.0    13108.0\n",
       "37076.0    16855.0\n",
       "37080.0     3078.0\n",
       "37115.0    12827.0\n",
       "37138.0    10873.0\n",
       "37189.0     1650.0\n",
       "37201.0      756.0\n",
       "37203.0    11678.0\n",
       "37204.0     9723.0\n",
       "37205.0    24451.0\n",
       "37206.0    14310.0\n",
       "37207.0    13888.0\n",
       "37208.0     8262.0\n",
       "37209.0    20553.0\n",
       "37210.0     5493.0\n",
       "37211.0    28477.0\n",
       "37212.0    10877.0\n",
       "37213.0      102.0\n",
       "37214.0    13573.0\n",
       "37215.0    19915.0\n",
       "37216.0    10253.0\n",
       "37217.0     8613.0\n",
       "37218.0     6987.0\n",
       "37219.0      891.0\n",
       "37220.0     5190.0\n",
       "37221.0    27622.0\n",
       "37228.0     1040.0\n",
       "37238.0        5.0\n",
       "Name: count_given, dtype: float64"
      ]
     },
     "execution_count": 89,
     "metadata": {},
     "output_type": "execute_result"
    }
   ],
   "source": [
    "vax_protocol.groupby('zipcode')['count_given'].sum()\n"
   ]
  },
  {
   "cell_type": "code",
   "execution_count": 90,
   "metadata": {},
   "outputs": [
    {
     "ename": "NameError",
     "evalue": "name 'stack_hist' is not defined",
     "output_type": "error",
     "traceback": [
      "\u001b[1;31m---------------------------------------------------------------------------\u001b[0m",
      "\u001b[1;31mNameError\u001b[0m                                 Traceback (most recent call last)",
      "\u001b[1;32m<ipython-input-90-ca835e155674>\u001b[0m in \u001b[0;36m<module>\u001b[1;34m\u001b[0m\n\u001b[1;32m----> 1\u001b[1;33m \u001b[0mvax_protocol\u001b[0m \u001b[1;33m=\u001b[0m \u001b[0mstack_hist\u001b[0m\u001b[1;33m(\u001b[0m\u001b[1;33m)\u001b[0m\u001b[1;33m\u001b[0m\u001b[1;33m\u001b[0m\u001b[0m\n\u001b[0m",
      "\u001b[1;31mNameError\u001b[0m: name 'stack_hist' is not defined"
     ]
    }
   ],
   "source": []
  }
 ],
 "metadata": {
  "kernelspec": {
   "display_name": "Python 3",
   "language": "python",
   "name": "python3"
  },
  "language_info": {
   "codemirror_mode": {
    "name": "ipython",
    "version": 3
   },
   "file_extension": ".py",
   "mimetype": "text/x-python",
   "name": "python",
   "nbconvert_exporter": "python",
   "pygments_lexer": "ipython3",
   "version": "3.8.3"
  }
 },
 "nbformat": 4,
 "nbformat_minor": 4
}
