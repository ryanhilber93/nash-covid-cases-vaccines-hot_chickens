{
 "cells": [
  {
   "cell_type": "code",
   "execution_count": 40,
   "metadata": {},
   "outputs": [],
   "source": [
    "import pandas as pd\n",
    "import matplotlib.pyplot as plt\n",
    "import seaborn as sns\n",
    "import warnings\n",
    "warnings.filterwarnings('ignore')\n",
    "\n",
    "%matplotlib inline"
   ]
  },
  {
   "cell_type": "code",
   "execution_count": 41,
   "metadata": {},
   "outputs": [],
   "source": [
    "zip_df = pd.read_csv('COVID_CountByZipPerDate 03292021.csv')"
   ]
  },
  {
   "cell_type": "code",
   "execution_count": 42,
   "metadata": {},
   "outputs": [],
   "source": [
    "vax_df = pd.read_csv('vaccine_with_protocol.csv')"
   ]
  },
  {
   "cell_type": "code",
   "execution_count": 43,
   "metadata": {},
   "outputs": [
    {
     "data": {
      "text/html": [
       "<div>\n",
       "<style scoped>\n",
       "    .dataframe tbody tr th:only-of-type {\n",
       "        vertical-align: middle;\n",
       "    }\n",
       "\n",
       "    .dataframe tbody tr th {\n",
       "        vertical-align: top;\n",
       "    }\n",
       "\n",
       "    .dataframe thead th {\n",
       "        text-align: right;\n",
       "    }\n",
       "</style>\n",
       "<table border=\"1\" class=\"dataframe\">\n",
       "  <thead>\n",
       "    <tr style=\"text-align: right;\">\n",
       "      <th></th>\n",
       "      <th>Specimen Collection Date</th>\n",
       "      <th>Zip</th>\n",
       "      <th>Cases</th>\n",
       "    </tr>\n",
       "  </thead>\n",
       "  <tbody>\n",
       "    <tr>\n",
       "      <th>0</th>\n",
       "      <td>3/6/2020</td>\n",
       "      <td>37217.0</td>\n",
       "      <td>1</td>\n",
       "    </tr>\n",
       "    <tr>\n",
       "      <th>1</th>\n",
       "      <td>3/10/2020</td>\n",
       "      <td>37214.0</td>\n",
       "      <td>1</td>\n",
       "    </tr>\n",
       "    <tr>\n",
       "      <th>2</th>\n",
       "      <td>3/11/2020</td>\n",
       "      <td>37013.0</td>\n",
       "      <td>1</td>\n",
       "    </tr>\n",
       "    <tr>\n",
       "      <th>3</th>\n",
       "      <td>3/11/2020</td>\n",
       "      <td>37204.0</td>\n",
       "      <td>2</td>\n",
       "    </tr>\n",
       "    <tr>\n",
       "      <th>4</th>\n",
       "      <td>3/11/2020</td>\n",
       "      <td>37205.0</td>\n",
       "      <td>1</td>\n",
       "    </tr>\n",
       "    <tr>\n",
       "      <th>5</th>\n",
       "      <td>3/11/2020</td>\n",
       "      <td>37210.0</td>\n",
       "      <td>1</td>\n",
       "    </tr>\n",
       "    <tr>\n",
       "      <th>6</th>\n",
       "      <td>3/11/2020</td>\n",
       "      <td>37212.0</td>\n",
       "      <td>2</td>\n",
       "    </tr>\n",
       "    <tr>\n",
       "      <th>7</th>\n",
       "      <td>3/11/2020</td>\n",
       "      <td>37214.0</td>\n",
       "      <td>1</td>\n",
       "    </tr>\n",
       "    <tr>\n",
       "      <th>8</th>\n",
       "      <td>3/11/2020</td>\n",
       "      <td>37215.0</td>\n",
       "      <td>3</td>\n",
       "    </tr>\n",
       "    <tr>\n",
       "      <th>9</th>\n",
       "      <td>3/12/2020</td>\n",
       "      <td>NaN</td>\n",
       "      <td>1</td>\n",
       "    </tr>\n",
       "  </tbody>\n",
       "</table>\n",
       "</div>"
      ],
      "text/plain": [
       "  Specimen Collection Date      Zip  Cases\n",
       "0                 3/6/2020  37217.0      1\n",
       "1                3/10/2020  37214.0      1\n",
       "2                3/11/2020  37013.0      1\n",
       "3                3/11/2020  37204.0      2\n",
       "4                3/11/2020  37205.0      1\n",
       "5                3/11/2020  37210.0      1\n",
       "6                3/11/2020  37212.0      2\n",
       "7                3/11/2020  37214.0      1\n",
       "8                3/11/2020  37215.0      3\n",
       "9                3/12/2020      NaN      1"
      ]
     },
     "execution_count": 43,
     "metadata": {},
     "output_type": "execute_result"
    }
   ],
   "source": [
    "zip_df.head(10)"
   ]
  },
  {
   "cell_type": "code",
   "execution_count": 44,
   "metadata": {},
   "outputs": [
    {
     "data": {
      "text/html": [
       "<div>\n",
       "<style scoped>\n",
       "    .dataframe tbody tr th:only-of-type {\n",
       "        vertical-align: middle;\n",
       "    }\n",
       "\n",
       "    .dataframe tbody tr th {\n",
       "        vertical-align: top;\n",
       "    }\n",
       "\n",
       "    .dataframe thead th {\n",
       "        text-align: right;\n",
       "    }\n",
       "</style>\n",
       "<table border=\"1\" class=\"dataframe\">\n",
       "  <thead>\n",
       "    <tr style=\"text-align: right;\">\n",
       "      <th></th>\n",
       "      <th>vacc_date</th>\n",
       "      <th>zipcode</th>\n",
       "      <th>count_given</th>\n",
       "      <th>dose_nbr</th>\n",
       "      <th>protocol</th>\n",
       "    </tr>\n",
       "  </thead>\n",
       "  <tbody>\n",
       "    <tr>\n",
       "      <th>0</th>\n",
       "      <td>2020-12-12</td>\n",
       "      <td>37215.0</td>\n",
       "      <td>1.0</td>\n",
       "      <td>1.0</td>\n",
       "      <td>two-shot</td>\n",
       "    </tr>\n",
       "    <tr>\n",
       "      <th>1</th>\n",
       "      <td>2020-12-14</td>\n",
       "      <td>37205.0</td>\n",
       "      <td>1.0</td>\n",
       "      <td>2.0</td>\n",
       "      <td>two-shot</td>\n",
       "    </tr>\n",
       "    <tr>\n",
       "      <th>2</th>\n",
       "      <td>2020-12-14</td>\n",
       "      <td>37215.0</td>\n",
       "      <td>1.0</td>\n",
       "      <td>1.0</td>\n",
       "      <td>two-shot</td>\n",
       "    </tr>\n",
       "    <tr>\n",
       "      <th>3</th>\n",
       "      <td>2020-12-15</td>\n",
       "      <td>37221.0</td>\n",
       "      <td>1.0</td>\n",
       "      <td>1.0</td>\n",
       "      <td>two-shot</td>\n",
       "    </tr>\n",
       "    <tr>\n",
       "      <th>4</th>\n",
       "      <td>2020-12-16</td>\n",
       "      <td>37215.0</td>\n",
       "      <td>1.0</td>\n",
       "      <td>1.0</td>\n",
       "      <td>two-shot</td>\n",
       "    </tr>\n",
       "  </tbody>\n",
       "</table>\n",
       "</div>"
      ],
      "text/plain": [
       "    vacc_date  zipcode  count_given  dose_nbr  protocol\n",
       "0  2020-12-12  37215.0          1.0       1.0  two-shot\n",
       "1  2020-12-14  37205.0          1.0       2.0  two-shot\n",
       "2  2020-12-14  37215.0          1.0       1.0  two-shot\n",
       "3  2020-12-15  37221.0          1.0       1.0  two-shot\n",
       "4  2020-12-16  37215.0          1.0       1.0  two-shot"
      ]
     },
     "execution_count": 44,
     "metadata": {},
     "output_type": "execute_result"
    }
   ],
   "source": [
    "vax_df.head()"
   ]
  },
  {
   "cell_type": "code",
   "execution_count": 45,
   "metadata": {},
   "outputs": [
    {
     "name": "stdout",
     "output_type": "stream",
     "text": [
      "<class 'pandas.core.frame.DataFrame'>\n",
      "RangeIndex: 8832 entries, 0 to 8831\n",
      "Data columns (total 3 columns):\n",
      " #   Column                    Non-Null Count  Dtype  \n",
      "---  ------                    --------------  -----  \n",
      " 0   Specimen Collection Date  8832 non-null   object \n",
      " 1   Zip                       8456 non-null   float64\n",
      " 2   Cases                     8832 non-null   int64  \n",
      "dtypes: float64(1), int64(1), object(1)\n",
      "memory usage: 207.1+ KB\n"
     ]
    }
   ],
   "source": [
    "zip_df.info()"
   ]
  },
  {
   "cell_type": "code",
   "execution_count": 46,
   "metadata": {},
   "outputs": [
    {
     "name": "stdout",
     "output_type": "stream",
     "text": [
      "<class 'pandas.core.frame.DataFrame'>\n",
      "RangeIndex: 6694 entries, 0 to 6693\n",
      "Data columns (total 5 columns):\n",
      " #   Column       Non-Null Count  Dtype  \n",
      "---  ------       --------------  -----  \n",
      " 0   vacc_date    6694 non-null   object \n",
      " 1   zipcode      6462 non-null   float64\n",
      " 2   count_given  6686 non-null   float64\n",
      " 3   dose_nbr     6686 non-null   float64\n",
      " 4   protocol     6694 non-null   object \n",
      "dtypes: float64(3), object(2)\n",
      "memory usage: 261.6+ KB\n"
     ]
    }
   ],
   "source": [
    "vax_df.info()"
   ]
  },
  {
   "cell_type": "code",
   "execution_count": 47,
   "metadata": {},
   "outputs": [
    {
     "data": {
      "text/plain": [
       "Specimen Collection Date    8832\n",
       "Zip                         8456\n",
       "Cases                       8832\n",
       "dtype: int64"
      ]
     },
     "execution_count": 47,
     "metadata": {},
     "output_type": "execute_result"
    }
   ],
   "source": [
    "zip_df.count()"
   ]
  },
  {
   "cell_type": "code",
   "execution_count": 48,
   "metadata": {},
   "outputs": [
    {
     "data": {
      "text/plain": [
       "vacc_date      6694\n",
       "zipcode        6462\n",
       "count_given    6686\n",
       "dose_nbr       6686\n",
       "protocol       6694\n",
       "dtype: int64"
      ]
     },
     "execution_count": 48,
     "metadata": {},
     "output_type": "execute_result"
    }
   ],
   "source": [
    "vax_df.count()"
   ]
  },
  {
   "cell_type": "code",
   "execution_count": 49,
   "metadata": {},
   "outputs": [
    {
     "data": {
      "text/plain": [
       "1      1453\n",
       "2      1044\n",
       "3       763\n",
       "4       635\n",
       "5       529\n",
       "       ... \n",
       "91        1\n",
       "83        1\n",
       "146       1\n",
       "114       1\n",
       "179       1\n",
       "Name: Cases, Length: 131, dtype: int64"
      ]
     },
     "execution_count": 49,
     "metadata": {},
     "output_type": "execute_result"
    }
   ],
   "source": [
    "pd.value_counts(zip_df['Cases'])"
   ]
  },
  {
   "cell_type": "code",
   "execution_count": 50,
   "metadata": {},
   "outputs": [
    {
     "data": {
      "text/plain": [
       "37013.0    382\n",
       "37211.0    379\n",
       "37209.0    364\n",
       "37217.0    362\n",
       "37115.0    361\n",
       "37207.0    361\n",
       "37076.0    357\n",
       "37214.0    355\n",
       "37203.0    344\n",
       "37221.0    342\n",
       "37206.0    340\n",
       "37072.0    338\n",
       "37208.0    338\n",
       "37210.0    336\n",
       "37205.0    330\n",
       "37138.0    323\n",
       "37218.0    321\n",
       "37216.0    318\n",
       "37215.0    317\n",
       "37212.0    313\n",
       "37204.0    306\n",
       "37220.0    214\n",
       "37189.0    211\n",
       "37080.0    192\n",
       "37228.0    168\n",
       "37201.0    153\n",
       "37219.0    140\n",
       "37027.0    132\n",
       "37213.0     43\n",
       "37069.0     13\n",
       "37238.0      3\n",
       "Name: Zip, dtype: int64"
      ]
     },
     "execution_count": 50,
     "metadata": {},
     "output_type": "execute_result"
    }
   ],
   "source": [
    "pd.value_counts(zip_df['Zip'])"
   ]
  },
  {
   "cell_type": "code",
   "execution_count": 51,
   "metadata": {},
   "outputs": [
    {
     "data": {
      "text/plain": [
       "zipcode\n",
       "37013.0    27167.0\n",
       "37027.0      506.0\n",
       "37069.0       89.0\n",
       "37072.0    13108.0\n",
       "37076.0    16855.0\n",
       "37080.0     3078.0\n",
       "37115.0    12827.0\n",
       "37138.0    10873.0\n",
       "37189.0     1650.0\n",
       "37201.0      756.0\n",
       "37203.0    11678.0\n",
       "37204.0     9723.0\n",
       "37205.0    24451.0\n",
       "37206.0    14310.0\n",
       "37207.0    13888.0\n",
       "37208.0     8262.0\n",
       "37209.0    20553.0\n",
       "37210.0     5493.0\n",
       "37211.0    28477.0\n",
       "37212.0    10877.0\n",
       "37213.0      102.0\n",
       "37214.0    13573.0\n",
       "37215.0    19915.0\n",
       "37216.0    10253.0\n",
       "37217.0     8613.0\n",
       "37218.0     6987.0\n",
       "37219.0      891.0\n",
       "37220.0     5190.0\n",
       "37221.0    27622.0\n",
       "37228.0     1040.0\n",
       "37238.0        5.0\n",
       "Name: count_given, dtype: float64"
      ]
     },
     "execution_count": 51,
     "metadata": {},
     "output_type": "execute_result"
    }
   ],
   "source": [
    "vax_df.groupby('zipcode')['count_given'].sum()\n"
   ]
  },
  {
   "cell_type": "code",
   "execution_count": 52,
   "metadata": {},
   "outputs": [
    {
     "data": {
      "text/plain": [
       "<matplotlib.axes._subplots.AxesSubplot at 0x20d8da37850>"
      ]
     },
     "execution_count": 52,
     "metadata": {},
     "output_type": "execute_result"
    },
    {
     "data": {
      "image/png": "[encoded data removed]",
      "text/plain": [
       "<Figure size 432x288 with 1 Axes>"
      ]
     },
     "metadata": {
      "needs_background": "light"
     },
     "output_type": "display_data"
    }
   ],
   "source": [
    "sns.boxplot(x=zip_df['Cases'])\n"
   ]
  },
  {
   "cell_type": "code",
   "execution_count": 53,
   "metadata": {},
   "outputs": [
    {
     "data": {
      "text/plain": [
       "<matplotlib.axes._subplots.AxesSubplot at 0x20d8db96eb0>"
      ]
     },
     "execution_count": 53,
     "metadata": {},
     "output_type": "execute_result"
    },
    {
     "data": {
      "image/png": "[encoded data removed]",
      "text/plain": [
       "<Figure size 432x288 with 1 Axes>"
      ]
     },
     "metadata": {
      "needs_background": "light"
     },
     "output_type": "display_data"
    }
   ],
   "source": [
    "sns.boxplot(x=zip_df['Zip'])"
   ]
  },
  {
   "cell_type": "code",
   "execution_count": 54,
   "metadata": {},
   "outputs": [
    {
     "data": {
      "text/html": [
       "<div>\n",
       "<style scoped>\n",
       "    .dataframe tbody tr th:only-of-type {\n",
       "        vertical-align: middle;\n",
       "    }\n",
       "\n",
       "    .dataframe tbody tr th {\n",
       "        vertical-align: top;\n",
       "    }\n",
       "\n",
       "    .dataframe thead th {\n",
       "        text-align: right;\n",
       "    }\n",
       "</style>\n",
       "<table border=\"1\" class=\"dataframe\">\n",
       "  <thead>\n",
       "    <tr style=\"text-align: right;\">\n",
       "      <th></th>\n",
       "      <th>Zip</th>\n",
       "      <th>Cases</th>\n",
       "    </tr>\n",
       "  </thead>\n",
       "  <tbody>\n",
       "    <tr>\n",
       "      <th>count</th>\n",
       "      <td>8456.000000</td>\n",
       "      <td>8832.000000</td>\n",
       "    </tr>\n",
       "    <tr>\n",
       "      <th>mean</th>\n",
       "      <td>37177.833254</td>\n",
       "      <td>10.599977</td>\n",
       "    </tr>\n",
       "    <tr>\n",
       "      <th>std</th>\n",
       "      <td>61.642481</td>\n",
       "      <td>15.487583</td>\n",
       "    </tr>\n",
       "    <tr>\n",
       "      <th>min</th>\n",
       "      <td>37013.000000</td>\n",
       "      <td>1.000000</td>\n",
       "    </tr>\n",
       "    <tr>\n",
       "      <th>25%</th>\n",
       "      <td>37189.000000</td>\n",
       "      <td>2.000000</td>\n",
       "    </tr>\n",
       "    <tr>\n",
       "      <th>50%</th>\n",
       "      <td>37208.000000</td>\n",
       "      <td>5.000000</td>\n",
       "    </tr>\n",
       "    <tr>\n",
       "      <th>75%</th>\n",
       "      <td>37215.000000</td>\n",
       "      <td>13.000000</td>\n",
       "    </tr>\n",
       "    <tr>\n",
       "      <th>max</th>\n",
       "      <td>37238.000000</td>\n",
       "      <td>272.000000</td>\n",
       "    </tr>\n",
       "  </tbody>\n",
       "</table>\n",
       "</div>"
      ],
      "text/plain": [
       "                Zip        Cases\n",
       "count   8456.000000  8832.000000\n",
       "mean   37177.833254    10.599977\n",
       "std       61.642481    15.487583\n",
       "min    37013.000000     1.000000\n",
       "25%    37189.000000     2.000000\n",
       "50%    37208.000000     5.000000\n",
       "75%    37215.000000    13.000000\n",
       "max    37238.000000   272.000000"
      ]
     },
     "execution_count": 54,
     "metadata": {},
     "output_type": "execute_result"
    }
   ],
   "source": [
    "zip_df.describe()"
   ]
  },
  {
   "cell_type": "code",
   "execution_count": 55,
   "metadata": {},
   "outputs": [
    {
     "data": {
      "text/html": [
       "<div>\n",
       "<style scoped>\n",
       "    .dataframe tbody tr th:only-of-type {\n",
       "        vertical-align: middle;\n",
       "    }\n",
       "\n",
       "    .dataframe tbody tr th {\n",
       "        vertical-align: top;\n",
       "    }\n",
       "\n",
       "    .dataframe thead th {\n",
       "        text-align: right;\n",
       "    }\n",
       "</style>\n",
       "<table border=\"1\" class=\"dataframe\">\n",
       "  <thead>\n",
       "    <tr style=\"text-align: right;\">\n",
       "      <th></th>\n",
       "      <th>Specimen Collection Date</th>\n",
       "      <th>Zip</th>\n",
       "      <th>Cases</th>\n",
       "    </tr>\n",
       "  </thead>\n",
       "  <tbody>\n",
       "    <tr>\n",
       "      <th>5592</th>\n",
       "      <td>11/23/2020</td>\n",
       "      <td>NaN</td>\n",
       "      <td>272</td>\n",
       "    </tr>\n",
       "    <tr>\n",
       "      <th>6760</th>\n",
       "      <td>1/4/2021</td>\n",
       "      <td>37013.0</td>\n",
       "      <td>215</td>\n",
       "    </tr>\n",
       "    <tr>\n",
       "      <th>5564</th>\n",
       "      <td>11/22/2020</td>\n",
       "      <td>NaN</td>\n",
       "      <td>182</td>\n",
       "    </tr>\n",
       "    <tr>\n",
       "      <th>6563</th>\n",
       "      <td>12/28/2020</td>\n",
       "      <td>37013.0</td>\n",
       "      <td>179</td>\n",
       "    </tr>\n",
       "    <tr>\n",
       "      <th>5968</th>\n",
       "      <td>12/7/2020</td>\n",
       "      <td>NaN</td>\n",
       "      <td>171</td>\n",
       "    </tr>\n",
       "    <tr>\n",
       "      <th>6789</th>\n",
       "      <td>1/5/2021</td>\n",
       "      <td>37013.0</td>\n",
       "      <td>167</td>\n",
       "    </tr>\n",
       "    <tr>\n",
       "      <th>1828</th>\n",
       "      <td>6/24/2020</td>\n",
       "      <td>37211.0</td>\n",
       "      <td>159</td>\n",
       "    </tr>\n",
       "    <tr>\n",
       "      <th>6593</th>\n",
       "      <td>12/29/2020</td>\n",
       "      <td>37013.0</td>\n",
       "      <td>159</td>\n",
       "    </tr>\n",
       "    <tr>\n",
       "      <th>5774</th>\n",
       "      <td>11/30/2020</td>\n",
       "      <td>NaN</td>\n",
       "      <td>155</td>\n",
       "    </tr>\n",
       "    <tr>\n",
       "      <th>5621</th>\n",
       "      <td>11/24/2020</td>\n",
       "      <td>NaN</td>\n",
       "      <td>149</td>\n",
       "    </tr>\n",
       "  </tbody>\n",
       "</table>\n",
       "</div>"
      ],
      "text/plain": [
       "     Specimen Collection Date      Zip  Cases\n",
       "5592               11/23/2020      NaN    272\n",
       "6760                 1/4/2021  37013.0    215\n",
       "5564               11/22/2020      NaN    182\n",
       "6563               12/28/2020  37013.0    179\n",
       "5968                12/7/2020      NaN    171\n",
       "6789                 1/5/2021  37013.0    167\n",
       "1828                6/24/2020  37211.0    159\n",
       "6593               12/29/2020  37013.0    159\n",
       "5774               11/30/2020      NaN    155\n",
       "5621               11/24/2020      NaN    149"
      ]
     },
     "execution_count": 55,
     "metadata": {},
     "output_type": "execute_result"
    }
   ],
   "source": [
    "zip_df.nlargest(10, ['Cases'])"
   ]
  },
  {
   "cell_type": "code",
   "execution_count": 56,
   "metadata": {},
   "outputs": [],
   "source": [
    "most_vax_given = vax_df.groupby('zipcode')['count_given'].sum()\n"
   ]
  },
  {
   "cell_type": "code",
   "execution_count": 57,
   "metadata": {},
   "outputs": [
    {
     "name": "stdout",
     "output_type": "stream",
     "text": [
      "    zipcode  total_vaccines_given\n",
      "0   37013.0               27167.0\n",
      "1   37027.0                 506.0\n",
      "2   37069.0                  89.0\n",
      "3   37072.0               13108.0\n",
      "4   37076.0               16855.0\n",
      "5   37080.0                3078.0\n",
      "6   37115.0               12827.0\n",
      "7   37138.0               10873.0\n",
      "8   37189.0                1650.0\n",
      "9   37201.0                 756.0\n",
      "10  37203.0               11678.0\n",
      "11  37204.0                9723.0\n",
      "12  37205.0               24451.0\n",
      "13  37206.0               14310.0\n",
      "14  37207.0               13888.0\n",
      "15  37208.0                8262.0\n",
      "16  37209.0               20553.0\n",
      "17  37210.0                5493.0\n",
      "18  37211.0               28477.0\n",
      "19  37212.0               10877.0\n",
      "20  37213.0                 102.0\n",
      "21  37214.0               13573.0\n",
      "22  37215.0               19915.0\n",
      "23  37216.0               10253.0\n",
      "24  37217.0                8613.0\n",
      "25  37218.0                6987.0\n",
      "26  37219.0                 891.0\n",
      "27  37220.0                5190.0\n",
      "28  37221.0               27622.0\n",
      "29  37228.0                1040.0\n",
      "30  37238.0                   5.0\n"
     ]
    }
   ],
   "source": [
    "most_vax_df = pd.DataFrame(most_vax_given).reset_index()\n",
    "most_vax_df.columns = ['zipcode', 'total_vaccines_given']\n",
    "print(most_vax_df)\n"
   ]
  },
  {
   "cell_type": "code",
   "execution_count": 58,
   "metadata": {},
   "outputs": [],
   "source": [
    "education = pd.read_csv('education_by_zip.csv')"
   ]
  },
  {
   "cell_type": "code",
   "execution_count": 59,
   "metadata": {
    "scrolled": true
   },
   "outputs": [
    {
     "data": {
      "text/html": [
       "<div>\n",
       "<style scoped>\n",
       "    .dataframe tbody tr th:only-of-type {\n",
       "        vertical-align: middle;\n",
       "    }\n",
       "\n",
       "    .dataframe tbody tr th {\n",
       "        vertical-align: top;\n",
       "    }\n",
       "\n",
       "    .dataframe thead th {\n",
       "        text-align: right;\n",
       "    }\n",
       "</style>\n",
       "<table border=\"1\" class=\"dataframe\">\n",
       "  <thead>\n",
       "    <tr style=\"text-align: right;\">\n",
       "      <th></th>\n",
       "      <th>Zipcode</th>\n",
       "      <th>Total:</th>\n",
       "      <th>High school graduate (includes equivalency)</th>\n",
       "      <th>Bachelors degree</th>\n",
       "      <th>Some college, 1 or more years, no degree</th>\n",
       "      <th>Associates degree</th>\n",
       "      <th>Masters degree</th>\n",
       "      <th>Some college, less than 1 year</th>\n",
       "      <th>No schooling completed</th>\n",
       "      <th>12th grade, no diploma</th>\n",
       "      <th>Professional school degree</th>\n",
       "      <th>5th and 6th grade</th>\n",
       "      <th>7th and 8th grade</th>\n",
       "      <th>10th grade</th>\n",
       "      <th>9th grade</th>\n",
       "      <th>11th grade</th>\n",
       "      <th>Nursery to 4th grade</th>\n",
       "      <th>Doctorate degree</th>\n",
       "    </tr>\n",
       "  </thead>\n",
       "  <tbody>\n",
       "    <tr>\n",
       "      <th>18</th>\n",
       "      <td>37211</td>\n",
       "      <td>52117</td>\n",
       "      <td>11897</td>\n",
       "      <td>12916</td>\n",
       "      <td>6621</td>\n",
       "      <td>2937</td>\n",
       "      <td>4999</td>\n",
       "      <td>2007</td>\n",
       "      <td>1528</td>\n",
       "      <td>1122</td>\n",
       "      <td>811</td>\n",
       "      <td>1273</td>\n",
       "      <td>1504</td>\n",
       "      <td>1015</td>\n",
       "      <td>1334</td>\n",
       "      <td>775</td>\n",
       "      <td>738</td>\n",
       "      <td>640</td>\n",
       "    </tr>\n",
       "    <tr>\n",
       "      <th>0</th>\n",
       "      <td>37013</td>\n",
       "      <td>62355</td>\n",
       "      <td>15971</td>\n",
       "      <td>14323</td>\n",
       "      <td>9466</td>\n",
       "      <td>5652</td>\n",
       "      <td>4860</td>\n",
       "      <td>3147</td>\n",
       "      <td>1822</td>\n",
       "      <td>1386</td>\n",
       "      <td>1055</td>\n",
       "      <td>951</td>\n",
       "      <td>705</td>\n",
       "      <td>894</td>\n",
       "      <td>821</td>\n",
       "      <td>638</td>\n",
       "      <td>355</td>\n",
       "      <td>309</td>\n",
       "    </tr>\n",
       "    <tr>\n",
       "      <th>6</th>\n",
       "      <td>37115</td>\n",
       "      <td>27433</td>\n",
       "      <td>9319</td>\n",
       "      <td>3425</td>\n",
       "      <td>4258</td>\n",
       "      <td>1966</td>\n",
       "      <td>1417</td>\n",
       "      <td>1676</td>\n",
       "      <td>633</td>\n",
       "      <td>576</td>\n",
       "      <td>238</td>\n",
       "      <td>565</td>\n",
       "      <td>604</td>\n",
       "      <td>595</td>\n",
       "      <td>696</td>\n",
       "      <td>1001</td>\n",
       "      <td>344</td>\n",
       "      <td>120</td>\n",
       "    </tr>\n",
       "    <tr>\n",
       "      <th>14</th>\n",
       "      <td>37207</td>\n",
       "      <td>25832</td>\n",
       "      <td>8857</td>\n",
       "      <td>3745</td>\n",
       "      <td>4230</td>\n",
       "      <td>1443</td>\n",
       "      <td>1319</td>\n",
       "      <td>1545</td>\n",
       "      <td>580</td>\n",
       "      <td>730</td>\n",
       "      <td>178</td>\n",
       "      <td>385</td>\n",
       "      <td>459</td>\n",
       "      <td>586</td>\n",
       "      <td>496</td>\n",
       "      <td>954</td>\n",
       "      <td>88</td>\n",
       "      <td>237</td>\n",
       "    </tr>\n",
       "    <tr>\n",
       "      <th>17</th>\n",
       "      <td>37210</td>\n",
       "      <td>10895</td>\n",
       "      <td>3167</td>\n",
       "      <td>2199</td>\n",
       "      <td>1507</td>\n",
       "      <td>630</td>\n",
       "      <td>432</td>\n",
       "      <td>498</td>\n",
       "      <td>261</td>\n",
       "      <td>375</td>\n",
       "      <td>162</td>\n",
       "      <td>319</td>\n",
       "      <td>164</td>\n",
       "      <td>268</td>\n",
       "      <td>394</td>\n",
       "      <td>319</td>\n",
       "      <td>106</td>\n",
       "      <td>94</td>\n",
       "    </tr>\n",
       "  </tbody>\n",
       "</table>\n",
       "</div>"
      ],
      "text/plain": [
       "    Zipcode  Total:  High school graduate (includes equivalency)  \\\n",
       "18    37211   52117                                        11897   \n",
       "0     37013   62355                                        15971   \n",
       "6     37115   27433                                         9319   \n",
       "14    37207   25832                                         8857   \n",
       "17    37210   10895                                         3167   \n",
       "\n",
       "    Bachelors degree  Some college, 1 or more years, no degree  \\\n",
       "18             12916                                      6621   \n",
       "0              14323                                      9466   \n",
       "6               3425                                      4258   \n",
       "14              3745                                      4230   \n",
       "17              2199                                      1507   \n",
       "\n",
       "    Associates degree  Masters degree  Some college, less than 1 year  \\\n",
       "18               2937            4999                            2007   \n",
       "0                5652            4860                            3147   \n",
       "6                1966            1417                            1676   \n",
       "14               1443            1319                            1545   \n",
       "17                630             432                             498   \n",
       "\n",
       "    No schooling completed  12th grade, no diploma  \\\n",
       "18                    1528                    1122   \n",
       "0                     1822                    1386   \n",
       "6                      633                     576   \n",
       "14                     580                     730   \n",
       "17                     261                     375   \n",
       "\n",
       "    Professional school degree  5th and 6th grade  7th and 8th grade  \\\n",
       "18                         811               1273               1504   \n",
       "0                         1055                951                705   \n",
       "6                          238                565                604   \n",
       "14                         178                385                459   \n",
       "17                         162                319                164   \n",
       "\n",
       "    10th grade  9th grade  11th grade  Nursery to 4th grade  Doctorate degree  \n",
       "18        1015       1334         775                   738               640  \n",
       "0          894        821         638                   355               309  \n",
       "6          595        696        1001                   344               120  \n",
       "14         586        496         954                    88               237  \n",
       "17         268        394         319                   106                94  "
      ]
     },
     "execution_count": 59,
     "metadata": {},
     "output_type": "execute_result"
    }
   ],
   "source": [
    "education.nlargest(5, ['5th and 6th grade'])"
   ]
  },
  {
   "cell_type": "code",
   "execution_count": 60,
   "metadata": {},
   "outputs": [
    {
     "name": "stdout",
     "output_type": "stream",
     "text": [
      "<class 'pandas.core.frame.DataFrame'>\n",
      "RangeIndex: 30 entries, 0 to 29\n",
      "Data columns (total 18 columns):\n",
      " #   Column                                       Non-Null Count  Dtype\n",
      "---  ------                                       --------------  -----\n",
      " 0   Zipcode                                      30 non-null     int64\n",
      " 1   Total:                                       30 non-null     int64\n",
      " 2   High school graduate (includes equivalency)  30 non-null     int64\n",
      " 3   Bachelors degree                             30 non-null     int64\n",
      " 4   Some college, 1 or more years, no degree     30 non-null     int64\n",
      " 5   Associates degree                            30 non-null     int64\n",
      " 6   Masters degree                               30 non-null     int64\n",
      " 7   Some college, less than 1 year               30 non-null     int64\n",
      " 8   No schooling completed                       30 non-null     int64\n",
      " 9   12th grade, no diploma                       30 non-null     int64\n",
      " 10  Professional school degree                   30 non-null     int64\n",
      " 11  5th and 6th grade                            30 non-null     int64\n",
      " 12  7th and 8th grade                            30 non-null     int64\n",
      " 13  10th grade                                   30 non-null     int64\n",
      " 14  9th grade                                    30 non-null     int64\n",
      " 15  11th grade                                   30 non-null     int64\n",
      " 16  Nursery to 4th grade                         30 non-null     int64\n",
      " 17  Doctorate degree                             30 non-null     int64\n",
      "dtypes: int64(18)\n",
      "memory usage: 4.3 KB\n"
     ]
    }
   ],
   "source": [
    "education.info()"
   ]
  },
  {
   "cell_type": "code",
   "execution_count": 61,
   "metadata": {},
   "outputs": [
    {
     "data": {
      "text/html": [
       "<div>\n",
       "<style scoped>\n",
       "    .dataframe tbody tr th:only-of-type {\n",
       "        vertical-align: middle;\n",
       "    }\n",
       "\n",
       "    .dataframe tbody tr th {\n",
       "        vertical-align: top;\n",
       "    }\n",
       "\n",
       "    .dataframe thead th {\n",
       "        text-align: right;\n",
       "    }\n",
       "</style>\n",
       "<table border=\"1\" class=\"dataframe\">\n",
       "  <thead>\n",
       "    <tr style=\"text-align: right;\">\n",
       "      <th></th>\n",
       "      <th>Zipcode</th>\n",
       "      <th>Total:</th>\n",
       "      <th>High school graduate (includes equivalency)</th>\n",
       "      <th>Bachelors degree</th>\n",
       "      <th>Some college, 1 or more years, no degree</th>\n",
       "      <th>Associates degree</th>\n",
       "      <th>Masters degree</th>\n",
       "      <th>Some college, less than 1 year</th>\n",
       "      <th>No schooling completed</th>\n",
       "      <th>12th grade, no diploma</th>\n",
       "      <th>Professional school degree</th>\n",
       "      <th>5th and 6th grade</th>\n",
       "      <th>7th and 8th grade</th>\n",
       "      <th>10th grade</th>\n",
       "      <th>9th grade</th>\n",
       "      <th>11th grade</th>\n",
       "      <th>Nursery to 4th grade</th>\n",
       "      <th>Doctorate degree</th>\n",
       "    </tr>\n",
       "  </thead>\n",
       "  <tbody>\n",
       "    <tr>\n",
       "      <th>0</th>\n",
       "      <td>37013</td>\n",
       "      <td>62355</td>\n",
       "      <td>15971</td>\n",
       "      <td>14323</td>\n",
       "      <td>9466</td>\n",
       "      <td>5652</td>\n",
       "      <td>4860</td>\n",
       "      <td>3147</td>\n",
       "      <td>1822</td>\n",
       "      <td>1386</td>\n",
       "      <td>1055</td>\n",
       "      <td>951</td>\n",
       "      <td>705</td>\n",
       "      <td>894</td>\n",
       "      <td>821</td>\n",
       "      <td>638</td>\n",
       "      <td>355</td>\n",
       "      <td>309</td>\n",
       "    </tr>\n",
       "    <tr>\n",
       "      <th>1</th>\n",
       "      <td>37027</td>\n",
       "      <td>36625</td>\n",
       "      <td>2744</td>\n",
       "      <td>16139</td>\n",
       "      <td>2887</td>\n",
       "      <td>1693</td>\n",
       "      <td>7717</td>\n",
       "      <td>1215</td>\n",
       "      <td>112</td>\n",
       "      <td>129</td>\n",
       "      <td>2137</td>\n",
       "      <td>37</td>\n",
       "      <td>139</td>\n",
       "      <td>105</td>\n",
       "      <td>72</td>\n",
       "      <td>47</td>\n",
       "      <td>11</td>\n",
       "      <td>1441</td>\n",
       "    </tr>\n",
       "    <tr>\n",
       "      <th>2</th>\n",
       "      <td>37069</td>\n",
       "      <td>13385</td>\n",
       "      <td>1048</td>\n",
       "      <td>5901</td>\n",
       "      <td>1419</td>\n",
       "      <td>615</td>\n",
       "      <td>2514</td>\n",
       "      <td>504</td>\n",
       "      <td>23</td>\n",
       "      <td>89</td>\n",
       "      <td>750</td>\n",
       "      <td>10</td>\n",
       "      <td>39</td>\n",
       "      <td>9</td>\n",
       "      <td>0</td>\n",
       "      <td>24</td>\n",
       "      <td>0</td>\n",
       "      <td>440</td>\n",
       "    </tr>\n",
       "    <tr>\n",
       "      <th>3</th>\n",
       "      <td>37072</td>\n",
       "      <td>22679</td>\n",
       "      <td>6735</td>\n",
       "      <td>4367</td>\n",
       "      <td>3424</td>\n",
       "      <td>1801</td>\n",
       "      <td>1491</td>\n",
       "      <td>1947</td>\n",
       "      <td>256</td>\n",
       "      <td>427</td>\n",
       "      <td>360</td>\n",
       "      <td>161</td>\n",
       "      <td>353</td>\n",
       "      <td>306</td>\n",
       "      <td>259</td>\n",
       "      <td>426</td>\n",
       "      <td>68</td>\n",
       "      <td>298</td>\n",
       "    </tr>\n",
       "    <tr>\n",
       "      <th>4</th>\n",
       "      <td>37076</td>\n",
       "      <td>28788</td>\n",
       "      <td>6816</td>\n",
       "      <td>7658</td>\n",
       "      <td>4458</td>\n",
       "      <td>2649</td>\n",
       "      <td>2296</td>\n",
       "      <td>1855</td>\n",
       "      <td>272</td>\n",
       "      <td>433</td>\n",
       "      <td>473</td>\n",
       "      <td>110</td>\n",
       "      <td>60</td>\n",
       "      <td>403</td>\n",
       "      <td>377</td>\n",
       "      <td>399</td>\n",
       "      <td>141</td>\n",
       "      <td>388</td>\n",
       "    </tr>\n",
       "  </tbody>\n",
       "</table>\n",
       "</div>"
      ],
      "text/plain": [
       "   Zipcode  Total:  High school graduate (includes equivalency)  \\\n",
       "0    37013   62355                                        15971   \n",
       "1    37027   36625                                         2744   \n",
       "2    37069   13385                                         1048   \n",
       "3    37072   22679                                         6735   \n",
       "4    37076   28788                                         6816   \n",
       "\n",
       "   Bachelors degree  Some college, 1 or more years, no degree  \\\n",
       "0             14323                                      9466   \n",
       "1             16139                                      2887   \n",
       "2              5901                                      1419   \n",
       "3              4367                                      3424   \n",
       "4              7658                                      4458   \n",
       "\n",
       "   Associates degree  Masters degree  Some college, less than 1 year  \\\n",
       "0               5652            4860                            3147   \n",
       "1               1693            7717                            1215   \n",
       "2                615            2514                             504   \n",
       "3               1801            1491                            1947   \n",
       "4               2649            2296                            1855   \n",
       "\n",
       "   No schooling completed  12th grade, no diploma  Professional school degree  \\\n",
       "0                    1822                    1386                        1055   \n",
       "1                     112                     129                        2137   \n",
       "2                      23                      89                         750   \n",
       "3                     256                     427                         360   \n",
       "4                     272                     433                         473   \n",
       "\n",
       "   5th and 6th grade  7th and 8th grade  10th grade  9th grade  11th grade  \\\n",
       "0                951                705         894        821         638   \n",
       "1                 37                139         105         72          47   \n",
       "2                 10                 39           9          0          24   \n",
       "3                161                353         306        259         426   \n",
       "4                110                 60         403        377         399   \n",
       "\n",
       "   Nursery to 4th grade  Doctorate degree  \n",
       "0                   355               309  \n",
       "1                    11              1441  \n",
       "2                     0               440  \n",
       "3                    68               298  \n",
       "4                   141               388  "
      ]
     },
     "execution_count": 61,
     "metadata": {},
     "output_type": "execute_result"
    }
   ],
   "source": [
    "education.head()"
   ]
  },
  {
   "cell_type": "code",
   "execution_count": 62,
   "metadata": {},
   "outputs": [
    {
     "data": {
      "text/plain": [
       "<matplotlib.axes._subplots.AxesSubplot at 0x20d8dc01f40>"
      ]
     },
     "execution_count": 62,
     "metadata": {},
     "output_type": "execute_result"
    },
    {
     "data": {
      "image/png": "[encoded data removed]",
      "text/plain": [
       "<Figure size 432x288 with 1 Axes>"
      ]
     },
     "metadata": {
      "needs_background": "light"
     },
     "output_type": "display_data"
    }
   ],
   "source": [
    "education.plot.bar('Zipcode', ['Doctorate degree','Masters degree'])"
   ]
  },
  {
   "cell_type": "code",
   "execution_count": 63,
   "metadata": {},
   "outputs": [
    {
     "data": {
      "text/plain": [
       "<matplotlib.axes._subplots.AxesSubplot at 0x20d8dd39340>"
      ]
     },
     "execution_count": 63,
     "metadata": {},
     "output_type": "execute_result"
    },
    {
     "data": {
      "image/png": "[encoded data removed]",
      "text/plain": [
       "<Figure size 432x288 with 1 Axes>"
      ]
     },
     "metadata": {
      "needs_background": "light"
     },
     "output_type": "display_data"
    }
   ],
   "source": [
    "education.plot.bar('Zipcode',['No schooling completed','5th and 6th grade'])"
   ]
  },
  {
   "cell_type": "code",
   "execution_count": null,
   "metadata": {},
   "outputs": [],
   "source": []
  },
  {
   "cell_type": "code",
   "execution_count": null,
   "metadata": {},
   "outputs": [],
   "source": []
  },
  {
   "cell_type": "code",
   "execution_count": null,
   "metadata": {},
   "outputs": [],
   "source": []
  },
  {
   "cell_type": "code",
   "execution_count": null,
   "metadata": {},
   "outputs": [],
   "source": []
  },
  {
   "cell_type": "code",
   "execution_count": null,
   "metadata": {},
   "outputs": [],
   "source": []
  },
  {
   "cell_type": "code",
   "execution_count": null,
   "metadata": {},
   "outputs": [],
   "source": []
  }
 ],
 "metadata": {
  "kernelspec": {
   "display_name": "Python 3",
   "language": "python",
   "name": "python3"
  },
  "language_info": {
   "codemirror_mode": {
    "name": "ipython",
    "version": 3
   },
   "file_extension": ".py",
   "mimetype": "text/x-python",
   "name": "python",
   "nbconvert_exporter": "python",
   "pygments_lexer": "ipython3",
   "version": "3.8.3"
  }
 },
 "nbformat": 4,
 "nbformat_minor": 4
}
