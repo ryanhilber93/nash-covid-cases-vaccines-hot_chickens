{
 "cells": [
  {
   "cell_type": "code",
   "execution_count": 1,
   "id": "f9f10f0a",
   "metadata": {},
   "outputs": [],
   "source": [
    "from shapely.geometry import Point\n",
    "import seaborn as sns\n",
    "import pandas as pd\n",
    "import geopandas as gpd\n",
    "import matplotlib.pyplot as plt\n",
    "import matplotlib as mpl\n",
    "import folium\n",
    "from folium.plugins import MarkerCluster\n",
    "from folium.plugins import FastMarkerCluster\n",
    "\n",
    "sns.set_style(\"dark\")"
   ]
  },
  {
   "cell_type": "code",
   "execution_count": null,
   "id": "5dac74d1",
   "metadata": {},
   "outputs": [],
   "source": [
    "case_count_df=pd.read_csv('data/covid_count.csv')\n",
    "case_count_df['date']=pd.to_datetime(case_count_df['Specimen Collection Date'])\n",
    "cases_by_zip=case_count_df.groupby(['Zip']).sum()\n",
    "cases_by_zip['ZIP'] = cases_by_zip.index\n",
    "cases_by_zip = cases_by_zip.reset_index()\n",
    "\n",
    "#needed to change type of zip tp string to drop the decimal and then to an object to join on later\n",
    "cases_by_zip['ZIP'] = cases_by_zip.loc[:, ['ZIP']].astype(str)\n",
    "cases_by_zip['ZIP'] = cases_by_zip['ZIP'].str.split('.').str[0]\n",
    "cases_by_zip['ZIP'] = cases_by_zip.loc[:, ['ZIP']].astype(object)\n",
    "cases_zip_ord=cases_by_zip.sort_values(by=['Cases'], ascending=False)\n",
    "cases_zip_ord.head(5)"
   ]
  },
  {
   "cell_type": "code",
   "execution_count": null,
   "id": "7f260977",
   "metadata": {},
   "outputs": [],
   "source": [
    "top_5_z=cases_zip_ord.head(5)"
   ]
  },
  {
   "cell_type": "code",
   "execution_count": null,
   "id": "684e9758",
   "metadata": {},
   "outputs": [],
   "source": [
    "top_5_b=cases_zip_ord.tail(5)\n",
    "top_5_b"
   ]
  },
  {
   "cell_type": "code",
   "execution_count": null,
   "id": "ac4aa6b7",
   "metadata": {},
   "outputs": [],
   "source": [
    "case_count_top=case_count_df[case_count_df['Zip'].isin(top_5_z.Zip)]\n",
    "case_count_top.head(5)"
   ]
  },
  {
   "cell_type": "code",
   "execution_count": null,
   "id": "5b425faf",
   "metadata": {},
   "outputs": [],
   "source": [
    "case_count_bot=case_count_df[case_count_df['Zip'].isin(top_5_b.Zip)]\n",
    "case_count_bot.head(5)"
   ]
  },
  {
   "cell_type": "code",
   "execution_count": null,
   "id": "ca4203d4",
   "metadata": {},
   "outputs": [],
   "source": [
    "\n",
    "pop_data = pd.read_excel(\"data/hisp.xlsx\", skiprows = 1, header=[0, 1], sheet_name = 0)\n",
    "pop_data = pop_data[pop_data.columns.drop(list(pop_data.filter(regex='Error')))]\n",
    "pop_data.columns = pop_data.columns.droplevel(1)\n",
    "pop_data = pop_data.set_index('Unnamed: 0_level_0').T.reset_index().rename({\"index\": \"zipcode\"}, axis = 1)\n",
    "pop_data['zipcode'] = pop_data.loc[:, ['zipcode']].astype(object)\n",
    "\n",
    "pop_data.head(5)"
   ]
  },
  {
   "cell_type": "code",
   "execution_count": null,
   "id": "4e09f65f",
   "metadata": {},
   "outputs": [],
   "source": [
    "gend_data = pd.read_excel(\"data/gender_age.xlsx\", skiprows = 1, header=[0, 1], sheet_name = 0)\n",
    "gend_data = gend_data[gend_data.columns.drop(list(gend_data.filter(regex='Error')))]\n",
    "gend_data.columns = gend_data.columns.droplevel(1)\n",
    "gend_data = gend_data.set_index('Unnamed: 0_level_0').T.reset_index().rename({\"index\": \"zipcode\"}, axis = 1)"
   ]
  },
  {
   "cell_type": "code",
   "execution_count": null,
   "id": "7c8e77ef",
   "metadata": {},
   "outputs": [],
   "source": [
    "ge_data = pd.read_excel(\"data/gender_ed.xlsx\", skiprows = 1, header=[0, 1], sheet_name = 0)\n",
    "ge_data = ge_data[ge_data.columns.drop(list(ge_data.filter(regex='Error')))]\n",
    "ge_data.columns = ge_data.columns.droplevel(1)\n",
    "ge_data = ge_data.set_index('Unnamed: 0_level_0').T.reset_index().rename({\"index\": \"zipcode\"}, axis = 1)"
   ]
  },
  {
   "cell_type": "code",
   "execution_count": null,
   "id": "56a6d7a6",
   "metadata": {},
   "outputs": [],
   "source": [
    "income_data = pd.read_excel(\"data/income.xlsx\", skiprows = 1, header=[0, 1], sheet_name = 0)\n",
    "income_data = income_data[income_data.columns.drop(list(income_data.filter(regex='Error')))]\n",
    "income_data.columns = income_data.columns.droplevel(1)\n",
    "income_data = income_data.set_index('Unnamed: 0_level_0').T.reset_index().rename({\"index\": \"zipcode\"}, axis = 1)"
   ]
  },
  {
   "cell_type": "code",
   "execution_count": null,
   "id": "59069979",
   "metadata": {},
   "outputs": [],
   "source": [
    "x=cases_by_zip.merge(income_data, left_on='ZIP', right_on='zipcode', how='left', indicator=True)\n",
    "y=x.merge(pop_data, left_on='ZIP', right_on='zipcode', how='left', indicator='True')\n",
    "y=y.drop(columns=['Not Hispanic or Latino:',\n",
    "       'White alone', 'Black or African American alone',\n",
    "       'American Indian and Alaska Native alone', 'Asian alone',\n",
    "       'Native Hawaiian and Other Pacific Islander alone',\n",
    "       'Some other race alone', 'Two or more races:',\n",
    "       'Two races including Some other race',\n",
    "       'Two races excluding Some other race, and three or more races',\n",
    "       'Hispanic or Latino:', 'White alone', 'Black or African American alone',\n",
    "       'American Indian and Alaska Native alone', 'Asian alone',\n",
    "       'Native Hawaiian and Other Pacific Islander alone',\n",
    "       'Some other race alone', 'Two or more races:',\n",
    "       'Two races including Some other race',\n",
    "       'Two races excluding Some other race, and three or more races', 'True', '_merge'])\n",
    "y.head(5)"
   ]
  },
  {
   "cell_type": "code",
   "execution_count": null,
   "id": "8db4cf0d",
   "metadata": {},
   "outputs": [],
   "source": [
    "y['pov_pop']=y.iloc[:,5:10].sum(axis=1)\n",
    "y['pov_perc']=y['pov_pop']/y['Total:_y']*100\n",
    "y"
   ]
  },
  {
   "cell_type": "markdown",
   "id": "3a553feb",
   "metadata": {},
   "source": [
    "run this next cell twice. would love a coding solution to not having to say this"
   ]
  },
  {
   "cell_type": "code",
   "execution_count": null,
   "id": "61d363f8",
   "metadata": {},
   "outputs": [],
   "source": [
    "sns.lineplot(data=case_count_top, x=\"date\", y=\"Cases\", hue='Zip', palette='tab10', linewidth=1.5)\n",
    "mpl.rcParams['figure.figsize'] = 21,12\n",
    "#sns.set(rc={'axes.facecolor':'black', 'figure.facecolor':'white'})##trying to figure out more settings, not currently working"
   ]
  },
  {
   "cell_type": "code",
   "execution_count": null,
   "id": "93828f38",
   "metadata": {},
   "outputs": [],
   "source": [
    "sns.set_palette(\"tab10\")\n",
    "sns.set(style=\"ticks\", rc={\"lines.linewidth\": 0.9})\n",
    "g=sns.lineplot(data=case_count_bot, x=\"date\", y=\"Cases\", hue='Zip', palette='tab10')\n",
    "mpl.rcParams['figure.figsize'] = 20,8.27"
   ]
  },
  {
   "cell_type": "code",
   "execution_count": null,
   "id": "5a2ff035",
   "metadata": {},
   "outputs": [],
   "source": [
    "#GB=case_count_df.groupby([(case_count_df.date.year),(case_count_df.date.month)]).sum()\n",
    "\n",
    "month= case_count_df.groupby([case_count_df['date'].dt.year, \n",
    "                                case_count_df['date'].dt.month,\n",
    "                                case_count_df['Zip']]).agg({'Cases':sum})\n",
    "month"
   ]
  },
  {
   "cell_type": "markdown",
   "id": "ae771ff7",
   "metadata": {},
   "source": [
    "These next couple charts are mostly tests/\"maybe later with more work\" kinda options"
   ]
  },
  {
   "cell_type": "code",
   "execution_count": null,
   "id": "f162ebd2",
   "metadata": {},
   "outputs": [],
   "source": [
    "sns.pairplot(month_data)"
   ]
  },
  {
   "cell_type": "code",
   "execution_count": null,
   "id": "157fe2a1",
   "metadata": {},
   "outputs": [],
   "source": [
    "sns.displot(\n",
    "    data=case_count_top,\n",
    "    x=\"date\", y=\"Cases\", hue=\"Zip\",\n",
    "    kind=\"kde\", height=6,\n",
    "    multiple=\"countour\", clip=(0, None),\n",
    "    palette=\"ch:rot=-.25,hue=1,light=.75\")"
   ]
  },
  {
   "cell_type": "code",
   "execution_count": null,
   "id": "c0245cee",
   "metadata": {},
   "outputs": [],
   "source": [
    "sns.displot(\n",
    "    data=case_count_top,\n",
    "    x=\"date\", hue=\"Zip\",\n",
    "    kind=\"kde\", height=6,\n",
    "    multiple=\"fill\", clip=(0, None),\n",
    "    palette=\"ch:rot=-.25,hue=1,light=.75\")"
   ]
  },
  {
   "cell_type": "code",
   "execution_count": null,
   "id": "6b7febbc",
   "metadata": {},
   "outputs": [],
   "source": [
    "#rs = np.random.RandomState(11)\n",
    "#x = rs.gamma(2, size=1000)\n",
    "#y = -.5 * x + rs.normal(size=1000)\n",
    "\n",
    "#sns.jointplot(data=, x=, y=y, kind=\"hex\", color=\"#4CB391\")\n",
    "\n",
    "sns.histplot(\n",
    "    month_data,\n",
    "    x=\"date\", y=\"Cases\", hue=\"Zip\")\n",
    "\n",
    "#sns.jointplot(\n",
    "    #data=case_count_df,\n",
    "   # x=\"date\", hue=\"Zip\",\n",
    "   # kind=\"hex\", height=6,\n",
    "   # multiple=\"fill\", clip=(0, None),\n",
    "   # palette=\"ch:rot=-.25,hue=1,light=.75\")"
   ]
  },
  {
   "cell_type": "code",
   "execution_count": null,
   "id": "719e671c",
   "metadata": {},
   "outputs": [],
   "source": [
    "case_count_df=pd.read_csv('data/covid_count.csv')\n",
    "case_count_df['date']=pd.to_datetime(case_count_df['Specimen Collection Date'])\n",
    "cases_by_zip=case_count_df.groupby(['Zip']).sum()\n",
    "cases_by_zip['ZIP'] = cases_by_zip.index\n",
    "cases_by_zip = cases_by_zip.reset_index()\n",
    "cases_by_zip['ZIP'] = cases_by_zip.loc[:, ['ZIP']].astype(float)\n",
    "cases_zip_ord=cases_by_zip.sort_values(by=['Cases'], ascending=False)\n",
    "cases_zip_ord.head(5)"
   ]
  },
  {
   "cell_type": "code",
   "execution_count": null,
   "id": "01973ec2",
   "metadata": {},
   "outputs": [],
   "source": [
    "vaccine_count_df=pd.read_csv('data/vaccine_with_protocol.csv')\n",
    "vaccine_count_df['date']=pd.to_datetime(vaccine_count_df['vacc_date'])\n",
    "vac_by_zip=vaccine_count_df.groupby(['zipcode']).sum()\n",
    "vac_by_zip['ZIP'] = vac_by_zip.index\n",
    "vac_by_zip = vac_by_zip.reset_index()\n",
    "vac_by_zip['ZIP'] = vac_by_zip.loc[:, ['ZIP']].astype(float)\n",
    "vac_zip_ord=vac_by_zip.sort_values(by=['count_given'], ascending=False)\n",
    "vac_zip_ord.head(5)"
   ]
  },
  {
   "cell_type": "code",
   "execution_count": null,
   "id": "2eaac9a9",
   "metadata": {},
   "outputs": [],
   "source": [
    "vaccine_count_df.head(5)"
   ]
  },
  {
   "cell_type": "code",
   "execution_count": null,
   "id": "6a0c2916",
   "metadata": {},
   "outputs": [],
   "source": [
    "zipcodes = gpd.read_file('../geospatial-python-workshop/data/zipcodes.geojson')\n",
    "zipcodes['zip'] = zipcodes.loc[:, ['zip']].astype(float)"
   ]
  },
  {
   "cell_type": "code",
   "execution_count": null,
   "id": "a14616dd",
   "metadata": {},
   "outputs": [],
   "source": [
    "case_zip_map = pd.merge(left = zipcodes, right = cases_by_zip, \n",
    "                    left_on = 'zip', right_on = 'ZIP')\n",
    "\n",
    "#this \"coords\" shit is something I found online to get the zip labels to work on the map\n",
    "case_zip_map['coords'] = case_zip_map['geometry'].apply(lambda x: x.representative_point().coords[:])\n",
    "case_zip_map['coords'] = [coords[0] for coords in case_zip_map['coords']]\n",
    "\n",
    "case_zip_map.head()"
   ]
  },
  {
   "cell_type": "code",
   "execution_count": null,
   "id": "c960db12",
   "metadata": {},
   "outputs": [],
   "source": []
  },
  {
   "cell_type": "code",
   "execution_count": null,
   "id": "253d2b50",
   "metadata": {},
   "outputs": [],
   "source": []
  },
  {
   "cell_type": "code",
   "execution_count": null,
   "id": "14477c69",
   "metadata": {},
   "outputs": [],
   "source": []
  },
  {
   "cell_type": "code",
   "execution_count": null,
   "id": "c5dff431",
   "metadata": {},
   "outputs": [],
   "source": []
  },
  {
   "cell_type": "code",
   "execution_count": null,
   "id": "5ef91fe6",
   "metadata": {},
   "outputs": [],
   "source": []
  },
  {
   "cell_type": "code",
   "execution_count": null,
   "id": "6d6a0b07",
   "metadata": {},
   "outputs": [],
   "source": []
  },
  {
   "cell_type": "code",
   "execution_count": null,
   "id": "6757d230",
   "metadata": {},
   "outputs": [],
   "source": []
  }
 ],
 "metadata": {
  "kernelspec": {
   "display_name": "Python 3",
   "language": "python",
   "name": "python3"
  },
  "language_info": {
   "codemirror_mode": {
    "name": "ipython",
    "version": 3
   },
   "file_extension": ".py",
   "mimetype": "text/x-python",
   "name": "python",
   "nbconvert_exporter": "python",
   "pygments_lexer": "ipython3",
   "version": "3.8.5"
  }
 },
 "nbformat": 4,
 "nbformat_minor": 5
}
