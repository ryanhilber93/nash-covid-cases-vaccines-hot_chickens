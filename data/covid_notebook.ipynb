{
 "cells": [
  {
   "cell_type": "code",
   "execution_count": 742,
   "metadata": {},
   "outputs": [],
   "source": [
    "import numpy as np\n",
    "import pandas as pd\n",
    "import matplotlib.pyplot as plt\n",
    "import seaborn as sns\n",
    "\n",
    "\n",
    "%matplotlib inline\n",
    "\n"
   ]
  },
  {
   "cell_type": "code",
   "execution_count": 743,
   "metadata": {},
   "outputs": [],
   "source": [
    "##import cases by zip code data\n",
    "zip_df = pd.read_csv('COVID_CountByZipPerDate 03292021.csv')\n",
    "zip_df.rename(columns = {'Specimen Collection Date':'pos_test_date','Zip':'zipcode' ,'Cases':'cases'}, inplace = True)"
   ]
  },
  {
   "cell_type": "code",
   "execution_count": 744,
   "metadata": {
    "scrolled": true
   },
   "outputs": [
    {
     "data": {
      "text/html": [
       "<div>\n",
       "<style scoped>\n",
       "    .dataframe tbody tr th:only-of-type {\n",
       "        vertical-align: middle;\n",
       "    }\n",
       "\n",
       "    .dataframe tbody tr th {\n",
       "        vertical-align: top;\n",
       "    }\n",
       "\n",
       "    .dataframe thead th {\n",
       "        text-align: right;\n",
       "    }\n",
       "</style>\n",
       "<table border=\"1\" class=\"dataframe\">\n",
       "  <thead>\n",
       "    <tr style=\"text-align: right;\">\n",
       "      <th></th>\n",
       "      <th>pos_test_date</th>\n",
       "      <th>zipcode</th>\n",
       "      <th>cases</th>\n",
       "    </tr>\n",
       "  </thead>\n",
       "  <tbody>\n",
       "    <tr>\n",
       "      <th>0</th>\n",
       "      <td>3/6/2020</td>\n",
       "      <td>37217.0</td>\n",
       "      <td>1</td>\n",
       "    </tr>\n",
       "    <tr>\n",
       "      <th>1</th>\n",
       "      <td>3/10/2020</td>\n",
       "      <td>37214.0</td>\n",
       "      <td>1</td>\n",
       "    </tr>\n",
       "    <tr>\n",
       "      <th>2</th>\n",
       "      <td>3/11/2020</td>\n",
       "      <td>37013.0</td>\n",
       "      <td>1</td>\n",
       "    </tr>\n",
       "    <tr>\n",
       "      <th>3</th>\n",
       "      <td>3/11/2020</td>\n",
       "      <td>37204.0</td>\n",
       "      <td>2</td>\n",
       "    </tr>\n",
       "    <tr>\n",
       "      <th>4</th>\n",
       "      <td>3/11/2020</td>\n",
       "      <td>37205.0</td>\n",
       "      <td>1</td>\n",
       "    </tr>\n",
       "  </tbody>\n",
       "</table>\n",
       "</div>"
      ],
      "text/plain": [
       "  pos_test_date  zipcode  cases\n",
       "0      3/6/2020  37217.0      1\n",
       "1     3/10/2020  37214.0      1\n",
       "2     3/11/2020  37013.0      1\n",
       "3     3/11/2020  37204.0      2\n",
       "4     3/11/2020  37205.0      1"
      ]
     },
     "execution_count": 744,
     "metadata": {},
     "output_type": "execute_result"
    }
   ],
   "source": [
    "zip_df.head()"
   ]
  },
  {
   "cell_type": "code",
   "execution_count": 745,
   "metadata": {},
   "outputs": [
    {
     "data": {
      "text/html": [
       "<div>\n",
       "<style scoped>\n",
       "    .dataframe tbody tr th:only-of-type {\n",
       "        vertical-align: middle;\n",
       "    }\n",
       "\n",
       "    .dataframe tbody tr th {\n",
       "        vertical-align: top;\n",
       "    }\n",
       "\n",
       "    .dataframe thead th {\n",
       "        text-align: right;\n",
       "    }\n",
       "</style>\n",
       "<table border=\"1\" class=\"dataframe\">\n",
       "  <thead>\n",
       "    <tr style=\"text-align: right;\">\n",
       "      <th></th>\n",
       "      <th>pos_test_date</th>\n",
       "      <th>zipcode</th>\n",
       "      <th>cases</th>\n",
       "    </tr>\n",
       "  </thead>\n",
       "  <tbody>\n",
       "    <tr>\n",
       "      <th>0</th>\n",
       "      <td>3/6/2020</td>\n",
       "      <td>37217.0</td>\n",
       "      <td>1</td>\n",
       "    </tr>\n",
       "    <tr>\n",
       "      <th>1</th>\n",
       "      <td>3/10/2020</td>\n",
       "      <td>37214.0</td>\n",
       "      <td>1</td>\n",
       "    </tr>\n",
       "    <tr>\n",
       "      <th>2</th>\n",
       "      <td>3/11/2020</td>\n",
       "      <td>37013.0</td>\n",
       "      <td>1</td>\n",
       "    </tr>\n",
       "    <tr>\n",
       "      <th>3</th>\n",
       "      <td>3/11/2020</td>\n",
       "      <td>37204.0</td>\n",
       "      <td>2</td>\n",
       "    </tr>\n",
       "    <tr>\n",
       "      <th>4</th>\n",
       "      <td>3/11/2020</td>\n",
       "      <td>37205.0</td>\n",
       "      <td>1</td>\n",
       "    </tr>\n",
       "    <tr>\n",
       "      <th>...</th>\n",
       "      <td>...</td>\n",
       "      <td>...</td>\n",
       "      <td>...</td>\n",
       "    </tr>\n",
       "    <tr>\n",
       "      <th>8827</th>\n",
       "      <td>3/27/2021</td>\n",
       "      <td>37210.0</td>\n",
       "      <td>1</td>\n",
       "    </tr>\n",
       "    <tr>\n",
       "      <th>8828</th>\n",
       "      <td>3/27/2021</td>\n",
       "      <td>37211.0</td>\n",
       "      <td>1</td>\n",
       "    </tr>\n",
       "    <tr>\n",
       "      <th>8829</th>\n",
       "      <td>3/27/2021</td>\n",
       "      <td>37212.0</td>\n",
       "      <td>1</td>\n",
       "    </tr>\n",
       "    <tr>\n",
       "      <th>8830</th>\n",
       "      <td>3/27/2021</td>\n",
       "      <td>37214.0</td>\n",
       "      <td>2</td>\n",
       "    </tr>\n",
       "    <tr>\n",
       "      <th>8831</th>\n",
       "      <td>3/27/2021</td>\n",
       "      <td>37221.0</td>\n",
       "      <td>2</td>\n",
       "    </tr>\n",
       "  </tbody>\n",
       "</table>\n",
       "<p>8832 rows × 3 columns</p>\n",
       "</div>"
      ],
      "text/plain": [
       "     pos_test_date  zipcode  cases\n",
       "0         3/6/2020  37217.0      1\n",
       "1        3/10/2020  37214.0      1\n",
       "2        3/11/2020  37013.0      1\n",
       "3        3/11/2020  37204.0      2\n",
       "4        3/11/2020  37205.0      1\n",
       "...            ...      ...    ...\n",
       "8827     3/27/2021  37210.0      1\n",
       "8828     3/27/2021  37211.0      1\n",
       "8829     3/27/2021  37212.0      1\n",
       "8830     3/27/2021  37214.0      2\n",
       "8831     3/27/2021  37221.0      2\n",
       "\n",
       "[8832 rows x 3 columns]"
      ]
     },
     "execution_count": 745,
     "metadata": {},
     "output_type": "execute_result"
    }
   ],
   "source": [
    "zip_df"
   ]
  },
  {
   "cell_type": "code",
   "execution_count": 746,
   "metadata": {},
   "outputs": [
    {
     "name": "stdout",
     "output_type": "stream",
     "text": [
      "<class 'pandas.core.frame.DataFrame'>\n",
      "RangeIndex: 8832 entries, 0 to 8831\n",
      "Data columns (total 3 columns):\n",
      " #   Column         Non-Null Count  Dtype  \n",
      "---  ------         --------------  -----  \n",
      " 0   pos_test_date  8832 non-null   object \n",
      " 1   zipcode        8456 non-null   float64\n",
      " 2   cases          8832 non-null   int64  \n",
      "dtypes: float64(1), int64(1), object(1)\n",
      "memory usage: 207.1+ KB\n"
     ]
    }
   ],
   "source": [
    "zip_df.tail()\n",
    "zip_df.info()"
   ]
  },
  {
   "cell_type": "code",
   "execution_count": 747,
   "metadata": {},
   "outputs": [],
   "source": [
    "##import vaccine data\n",
    "vax = pd.read_csv('vaccine_with_protocol.csv')"
   ]
  },
  {
   "cell_type": "code",
   "execution_count": 754,
   "metadata": {},
   "outputs": [
    {
     "data": {
      "text/html": [
       "<div>\n",
       "<style scoped>\n",
       "    .dataframe tbody tr th:only-of-type {\n",
       "        vertical-align: middle;\n",
       "    }\n",
       "\n",
       "    .dataframe tbody tr th {\n",
       "        vertical-align: top;\n",
       "    }\n",
       "\n",
       "    .dataframe thead th {\n",
       "        text-align: right;\n",
       "    }\n",
       "</style>\n",
       "<table border=\"1\" class=\"dataframe\">\n",
       "  <thead>\n",
       "    <tr style=\"text-align: right;\">\n",
       "      <th></th>\n",
       "      <th>vacc_date</th>\n",
       "      <th>zipcode</th>\n",
       "      <th>count_given</th>\n",
       "      <th>dose_nbr</th>\n",
       "      <th>protocol</th>\n",
       "    </tr>\n",
       "  </thead>\n",
       "  <tbody>\n",
       "    <tr>\n",
       "      <th>0</th>\n",
       "      <td>2020-12-12</td>\n",
       "      <td>37215.0</td>\n",
       "      <td>1.0</td>\n",
       "      <td>1.0</td>\n",
       "      <td>two-shot</td>\n",
       "    </tr>\n",
       "    <tr>\n",
       "      <th>1</th>\n",
       "      <td>2020-12-14</td>\n",
       "      <td>37205.0</td>\n",
       "      <td>1.0</td>\n",
       "      <td>2.0</td>\n",
       "      <td>two-shot</td>\n",
       "    </tr>\n",
       "    <tr>\n",
       "      <th>2</th>\n",
       "      <td>2020-12-14</td>\n",
       "      <td>37215.0</td>\n",
       "      <td>1.0</td>\n",
       "      <td>1.0</td>\n",
       "      <td>two-shot</td>\n",
       "    </tr>\n",
       "    <tr>\n",
       "      <th>3</th>\n",
       "      <td>2020-12-15</td>\n",
       "      <td>37221.0</td>\n",
       "      <td>1.0</td>\n",
       "      <td>1.0</td>\n",
       "      <td>two-shot</td>\n",
       "    </tr>\n",
       "    <tr>\n",
       "      <th>4</th>\n",
       "      <td>2020-12-16</td>\n",
       "      <td>37215.0</td>\n",
       "      <td>1.0</td>\n",
       "      <td>1.0</td>\n",
       "      <td>two-shot</td>\n",
       "    </tr>\n",
       "  </tbody>\n",
       "</table>\n",
       "</div>"
      ],
      "text/plain": [
       "    vacc_date  zipcode  count_given  dose_nbr  protocol\n",
       "0  2020-12-12  37215.0          1.0       1.0  two-shot\n",
       "1  2020-12-14  37205.0          1.0       2.0  two-shot\n",
       "2  2020-12-14  37215.0          1.0       1.0  two-shot\n",
       "3  2020-12-15  37221.0          1.0       1.0  two-shot\n",
       "4  2020-12-16  37215.0          1.0       1.0  two-shot"
      ]
     },
     "execution_count": 754,
     "metadata": {},
     "output_type": "execute_result"
    }
   ],
   "source": [
    "vax.head()"
   ]
  },
  {
   "cell_type": "code",
   "execution_count": 767,
   "metadata": {},
   "outputs": [
    {
     "data": {
      "text/html": [
       "<div>\n",
       "<style scoped>\n",
       "    .dataframe tbody tr th:only-of-type {\n",
       "        vertical-align: middle;\n",
       "    }\n",
       "\n",
       "    .dataframe tbody tr th {\n",
       "        vertical-align: top;\n",
       "    }\n",
       "\n",
       "    .dataframe thead th {\n",
       "        text-align: right;\n",
       "    }\n",
       "</style>\n",
       "<table border=\"1\" class=\"dataframe\">\n",
       "  <thead>\n",
       "    <tr style=\"text-align: right;\">\n",
       "      <th></th>\n",
       "      <th>vacc_date</th>\n",
       "      <th>zipcode</th>\n",
       "      <th>count_given</th>\n",
       "      <th>dose_nbr</th>\n",
       "      <th>protocol</th>\n",
       "    </tr>\n",
       "  </thead>\n",
       "  <tbody>\n",
       "    <tr>\n",
       "      <th>0</th>\n",
       "      <td>2020-12-12</td>\n",
       "      <td>37215.0</td>\n",
       "      <td>1.0</td>\n",
       "      <td>1.0</td>\n",
       "      <td>two-shot</td>\n",
       "    </tr>\n",
       "    <tr>\n",
       "      <th>2</th>\n",
       "      <td>2020-12-14</td>\n",
       "      <td>37215.0</td>\n",
       "      <td>1.0</td>\n",
       "      <td>1.0</td>\n",
       "      <td>two-shot</td>\n",
       "    </tr>\n",
       "    <tr>\n",
       "      <th>3</th>\n",
       "      <td>2020-12-15</td>\n",
       "      <td>37221.0</td>\n",
       "      <td>1.0</td>\n",
       "      <td>1.0</td>\n",
       "      <td>two-shot</td>\n",
       "    </tr>\n",
       "    <tr>\n",
       "      <th>4</th>\n",
       "      <td>2020-12-16</td>\n",
       "      <td>37215.0</td>\n",
       "      <td>1.0</td>\n",
       "      <td>1.0</td>\n",
       "      <td>two-shot</td>\n",
       "    </tr>\n",
       "    <tr>\n",
       "      <th>5</th>\n",
       "      <td>2020-12-17</td>\n",
       "      <td>37013.0</td>\n",
       "      <td>16.0</td>\n",
       "      <td>1.0</td>\n",
       "      <td>two-shot</td>\n",
       "    </tr>\n",
       "    <tr>\n",
       "      <th>...</th>\n",
       "      <td>...</td>\n",
       "      <td>...</td>\n",
       "      <td>...</td>\n",
       "      <td>...</td>\n",
       "      <td>...</td>\n",
       "    </tr>\n",
       "    <tr>\n",
       "      <th>6686</th>\n",
       "      <td>2021-04-07</td>\n",
       "      <td>37221.0</td>\n",
       "      <td>81.0</td>\n",
       "      <td>1.0</td>\n",
       "      <td>two-shot</td>\n",
       "    </tr>\n",
       "    <tr>\n",
       "      <th>6687</th>\n",
       "      <td>2021-04-07</td>\n",
       "      <td>37221.0</td>\n",
       "      <td>2.0</td>\n",
       "      <td>1.0</td>\n",
       "      <td>one-shot</td>\n",
       "    </tr>\n",
       "    <tr>\n",
       "      <th>6689</th>\n",
       "      <td>2021-04-07</td>\n",
       "      <td>37228.0</td>\n",
       "      <td>9.0</td>\n",
       "      <td>1.0</td>\n",
       "      <td>two-shot</td>\n",
       "    </tr>\n",
       "    <tr>\n",
       "      <th>6691</th>\n",
       "      <td>2021-04-07</td>\n",
       "      <td>NaN</td>\n",
       "      <td>8.0</td>\n",
       "      <td>1.0</td>\n",
       "      <td>two-shot</td>\n",
       "    </tr>\n",
       "    <tr>\n",
       "      <th>6692</th>\n",
       "      <td>2021-04-07</td>\n",
       "      <td>NaN</td>\n",
       "      <td>1.0</td>\n",
       "      <td>1.0</td>\n",
       "      <td>one-shot</td>\n",
       "    </tr>\n",
       "  </tbody>\n",
       "</table>\n",
       "<p>3967 rows × 5 columns</p>\n",
       "</div>"
      ],
      "text/plain": [
       "       vacc_date  zipcode  count_given  dose_nbr  protocol\n",
       "0     2020-12-12  37215.0          1.0       1.0  two-shot\n",
       "2     2020-12-14  37215.0          1.0       1.0  two-shot\n",
       "3     2020-12-15  37221.0          1.0       1.0  two-shot\n",
       "4     2020-12-16  37215.0          1.0       1.0  two-shot\n",
       "5     2020-12-17  37013.0         16.0       1.0  two-shot\n",
       "...          ...      ...          ...       ...       ...\n",
       "6686  2021-04-07  37221.0         81.0       1.0  two-shot\n",
       "6687  2021-04-07  37221.0          2.0       1.0  one-shot\n",
       "6689  2021-04-07  37228.0          9.0       1.0  two-shot\n",
       "6691  2021-04-07      NaN          8.0       1.0  two-shot\n",
       "6692  2021-04-07      NaN          1.0       1.0  one-shot\n",
       "\n",
       "[3967 rows x 5 columns]"
      ]
     },
     "execution_count": 767,
     "metadata": {},
     "output_type": "execute_result"
    }
   ],
   "source": [
    "vax_filter = vax[vax.dose_nbr == 1.0]\n",
    "vax_filter"
   ]
  },
  {
   "cell_type": "code",
   "execution_count": 769,
   "metadata": {
    "scrolled": true
   },
   "outputs": [
    {
     "data": {
      "text/plain": [
       "(3967, 5)"
      ]
     },
     "execution_count": 769,
     "metadata": {},
     "output_type": "execute_result"
    }
   ],
   "source": [
    "vax_filter.shape"
   ]
  },
  {
   "cell_type": "code",
   "execution_count": 770,
   "metadata": {},
   "outputs": [
    {
     "name": "stdout",
     "output_type": "stream",
     "text": [
      "    zipcode  total_vaccines_given\n",
      "0   37013.0               18465.0\n",
      "1   37027.0                 352.0\n",
      "2   37069.0                  50.0\n",
      "3   37072.0                8460.0\n",
      "4   37076.0               11113.0\n",
      "5   37080.0                1970.0\n",
      "6   37115.0                8520.0\n",
      "7   37138.0                7152.0\n",
      "8   37189.0                1056.0\n",
      "9   37201.0                 576.0\n",
      "10  37203.0                8029.0\n",
      "11  37204.0                6410.0\n",
      "12  37205.0               14666.0\n",
      "13  37206.0               10124.0\n",
      "14  37207.0                9255.0\n",
      "15  37208.0                5526.0\n",
      "16  37209.0               13600.0\n",
      "17  37210.0                3747.0\n",
      "18  37211.0               19175.0\n",
      "19  37212.0                7160.0\n",
      "20  37213.0                  72.0\n",
      "21  37214.0                9198.0\n",
      "22  37215.0               12132.0\n",
      "23  37216.0                7230.0\n",
      "24  37217.0                5837.0\n",
      "25  37218.0                4391.0\n",
      "26  37219.0                 638.0\n",
      "27  37220.0                3239.0\n",
      "28  37221.0               17222.0\n",
      "29  37228.0                 655.0\n",
      "30  37238.0                   3.0\n"
     ]
    }
   ],
   "source": [
    "## most vaccines given by county\n",
    "most_vax_given = vax_filter.groupby('zipcode')['count_given'].sum()\n",
    "most_vax_df = pd.DataFrame(most_vax_given).reset_index()\n",
    "most_vax_df.columns = ['zipcode', 'total_vaccines_given']\n",
    "print(most_vax_df)\n"
   ]
  },
  {
   "cell_type": "code",
   "execution_count": 722,
   "metadata": {},
   "outputs": [],
   "source": [
    "## top 5 vaccines given by county\n",
    "vax_5 = most_vax_df.nlargest(5, ['total_vaccines_given'])\n",
    "vax_5['zipcode'] = vax_5.zipcode.astype('int64', errors = \"ignore\")\n",
    "vax_5['zipcode'] = vax_5.zipcode.astype('category', errors = \"ignore\")\n",
    "\n",
    "\n",
    "\n",
    "\n"
   ]
  },
  {
   "cell_type": "code",
   "execution_count": 723,
   "metadata": {},
   "outputs": [
    {
     "data": {
      "image/png": "[encoded data removed]",
      "text/plain": [
       "<Figure size 360x360 with 1 Axes>"
      ]
     },
     "metadata": {
      "needs_background": "light"
     },
     "output_type": "display_data"
    }
   ],
   "source": [
    "##plot most (top5) vaccines given by zipcode -- add county names to zip?? \n",
    "givenvax_top5 = sns.catplot(x=\"zipcode\", y=\"total_vaccines_given\", kind=\"bar\", data=vax_5, order=vax_5.sort_values('total_vaccines_given').zipcode)"
   ]
  },
  {
   "cell_type": "code",
   "execution_count": 724,
   "metadata": {},
   "outputs": [
    {
     "data": {
      "text/plain": [
       "<AxesSubplot:xlabel='zipcode'>"
      ]
     },
     "execution_count": 724,
     "metadata": {},
     "output_type": "execute_result"
    },
    {
     "data": {
      "image/png": "[encoded data removed]",
      "text/plain": [
       "<Figure size 432x288 with 1 Axes>"
      ]
     },
     "metadata": {
      "needs_background": "light"
     },
     "output_type": "display_data"
    }
   ],
   "source": [
    "##most vax given of all zipcodes\n",
    "most_vax_df.plot.bar('zipcode', 'total_vaccines_given')"
   ]
  },
  {
   "cell_type": "code",
   "execution_count": 771,
   "metadata": {},
   "outputs": [
    {
     "name": "stdout",
     "output_type": "stream",
     "text": [
      "    zipcode  cases\n",
      "0   37013.0  13354\n",
      "1   37027.0    231\n",
      "2   37069.0     16\n",
      "3   37072.0   2984\n",
      "4   37076.0   4279\n",
      "5   37080.0    574\n",
      "6   37115.0   4574\n",
      "7   37138.0   2359\n",
      "8   37189.0    479\n",
      "9   37201.0    299\n",
      "10  37203.0   3346\n",
      "11  37204.0   1786\n",
      "12  37205.0   2566\n",
      "13  37206.0   3112\n",
      "14  37207.0   4729\n",
      "15  37208.0   2428\n",
      "16  37209.0   5072\n",
      "17  37210.0   2100\n",
      "18  37211.0  10233\n",
      "19  37212.0   1823\n",
      "20  37213.0     65\n",
      "21  37214.0   3508\n",
      "22  37215.0   2438\n",
      "23  37216.0   2011\n",
      "24  37217.0   3907\n",
      "25  37218.0   1785\n",
      "26  37219.0    270\n",
      "27  37220.0    656\n",
      "28  37221.0   3910\n",
      "29  37228.0    310\n",
      "30  37238.0      3\n"
     ]
    }
   ],
   "source": [
    "## most cases by zipcode\n",
    "most_cases = zip_df.groupby('zipcode')['cases'].sum()\n",
    "most_cases_df = pd.DataFrame(most_cases).reset_index()\n",
    "most_cases_df.columns = ['zipcode', 'cases']\n",
    "print(most_cases_df)"
   ]
  },
  {
   "cell_type": "code",
   "execution_count": 726,
   "metadata": {},
   "outputs": [],
   "source": [
    "##plot most positive cases by zip code\n",
    "top5_cases = most_cases_df.nlargest(5, ['cases'])\n",
    "top5_cases['zipcode'] = top5_cases.zipcode.astype('int64', errors = \"ignore\")\n",
    "top5_cases['zipcode'] = top5_cases.zipcode.astype('category', errors = \"ignore\")"
   ]
  },
  {
   "cell_type": "code",
   "execution_count": 727,
   "metadata": {
    "scrolled": true
   },
   "outputs": [
    {
     "data": {
      "image/png": "[encoded data removed]",
      "text/plain": [
       "<Figure size 360x360 with 1 Axes>"
      ]
     },
     "metadata": {
      "needs_background": "light"
     },
     "output_type": "display_data"
    }
   ],
   "source": [
    "##plot most cases (top5) by zipcode\n",
    "cases_top5 = sns.catplot(x=\"zipcode\", y=\"cases\", kind=\"bar\", data=top5_cases, order=top5_cases.sort_values('cases').zipcode)"
   ]
  },
  {
   "cell_type": "code",
   "execution_count": 728,
   "metadata": {},
   "outputs": [
    {
     "data": {
      "text/plain": [
       "<AxesSubplot:xlabel='zipcode'>"
      ]
     },
     "execution_count": 728,
     "metadata": {},
     "output_type": "execute_result"
    },
    {
     "data": {
      "image/png": "[encoded data removed]",
      "text/plain": [
       "<Figure size 432x288 with 1 Axes>"
      ]
     },
     "metadata": {
      "needs_background": "light"
     },
     "output_type": "display_data"
    }
   ],
   "source": [
    "##most cases given of all zipcodes\n",
    "most_cases_df.plot.bar('zipcode', 'cases')"
   ]
  },
  {
   "cell_type": "code",
   "execution_count": 729,
   "metadata": {},
   "outputs": [
    {
     "data": {
      "text/plain": [
       "Text(0, 0.5, 'Most Vaccines Given')"
      ]
     },
     "execution_count": 729,
     "metadata": {},
     "output_type": "execute_result"
    },
    {
     "data": {
      "image/png": "[encoded data removed]",
      "text/plain": [
       "<Figure size 432x288 with 2 Axes>"
      ]
     },
     "metadata": {
      "needs_background": "light"
     },
     "output_type": "display_data"
    }
   ],
   "source": [
    "#plot most cases and most vax given side by side.\n",
    "fig = plt.figure() # Create matplotlib figure\n",
    "ax = fig.add_subplot(111) # Create matplotlib axes\n",
    "ax2 = ax.twinx() # Create another axes that shares the same x-axis as ax.\n",
    "\n",
    "width = .4\n",
    "\n",
    "most_cases_df.cases.plot(kind='bar', color='red', ax=ax, width=width, position=1)\n",
    "most_vax_df.total_vaccines_given.plot(kind='bar', color='blue', ax=ax2, width=width, position=0)\n",
    "\n",
    "ax.set_ylabel('Most Cases')\n",
    "ax2.set_ylabel('Most Vaccines Given')"
   ]
  },
  {
   "cell_type": "markdown",
   "metadata": {},
   "source": [
    "zipcode 37013 (Antioch) was ranked 3rd in most vaccines given, but dominated in total number of cases "
   ]
  },
  {
   "cell_type": "code",
   "execution_count": 772,
   "metadata": {},
   "outputs": [
    {
     "data": {
      "text/html": [
       "<div>\n",
       "<style scoped>\n",
       "    .dataframe tbody tr th:only-of-type {\n",
       "        vertical-align: middle;\n",
       "    }\n",
       "\n",
       "    .dataframe tbody tr th {\n",
       "        vertical-align: top;\n",
       "    }\n",
       "\n",
       "    .dataframe thead th {\n",
       "        text-align: right;\n",
       "    }\n",
       "</style>\n",
       "<table border=\"1\" class=\"dataframe\">\n",
       "  <thead>\n",
       "    <tr style=\"text-align: right;\">\n",
       "      <th></th>\n",
       "      <th>zipcode</th>\n",
       "      <th>less than $10,000</th>\n",
       "      <th>$10,000 to $14,999</th>\n",
       "      <th>$15,000 to $19,999</th>\n",
       "      <th>$20,000 to $24,999</th>\n",
       "      <th>$25,000 to $29,999</th>\n",
       "      <th>$30,000 to $34,999</th>\n",
       "      <th>$35,000 to $39,999</th>\n",
       "      <th>$40,000 to $44,999</th>\n",
       "      <th>$45,000 to $49,999</th>\n",
       "      <th>$50,000 to $59,999</th>\n",
       "      <th>$60,000 to $74,999</th>\n",
       "      <th>$75,000 to $99,999</th>\n",
       "      <th>$100,000 to $124,999</th>\n",
       "      <th>$125,000 to $149,999</th>\n",
       "      <th>$150,000 to $199,999</th>\n",
       "      <th>more than $200,000</th>\n",
       "    </tr>\n",
       "  </thead>\n",
       "  <tbody>\n",
       "    <tr>\n",
       "      <th>0</th>\n",
       "      <td>37013</td>\n",
       "      <td>1424</td>\n",
       "      <td>1023</td>\n",
       "      <td>1197</td>\n",
       "      <td>1751</td>\n",
       "      <td>1647</td>\n",
       "      <td>1685</td>\n",
       "      <td>1748</td>\n",
       "      <td>1937</td>\n",
       "      <td>1748</td>\n",
       "      <td>3956</td>\n",
       "      <td>4510</td>\n",
       "      <td>5507</td>\n",
       "      <td>3547</td>\n",
       "      <td>1703</td>\n",
       "      <td>1212</td>\n",
       "      <td>1002</td>\n",
       "    </tr>\n",
       "    <tr>\n",
       "      <th>1</th>\n",
       "      <td>37015</td>\n",
       "      <td>421</td>\n",
       "      <td>256</td>\n",
       "      <td>115</td>\n",
       "      <td>415</td>\n",
       "      <td>365</td>\n",
       "      <td>452</td>\n",
       "      <td>350</td>\n",
       "      <td>277</td>\n",
       "      <td>323</td>\n",
       "      <td>719</td>\n",
       "      <td>903</td>\n",
       "      <td>903</td>\n",
       "      <td>639</td>\n",
       "      <td>294</td>\n",
       "      <td>157</td>\n",
       "      <td>84</td>\n",
       "    </tr>\n",
       "    <tr>\n",
       "      <th>2</th>\n",
       "      <td>37027</td>\n",
       "      <td>460</td>\n",
       "      <td>173</td>\n",
       "      <td>246</td>\n",
       "      <td>250</td>\n",
       "      <td>254</td>\n",
       "      <td>250</td>\n",
       "      <td>316</td>\n",
       "      <td>538</td>\n",
       "      <td>472</td>\n",
       "      <td>597</td>\n",
       "      <td>1235</td>\n",
       "      <td>1861</td>\n",
       "      <td>2167</td>\n",
       "      <td>1688</td>\n",
       "      <td>2837</td>\n",
       "      <td>6606</td>\n",
       "    </tr>\n",
       "    <tr>\n",
       "      <th>3</th>\n",
       "      <td>37062</td>\n",
       "      <td>119</td>\n",
       "      <td>122</td>\n",
       "      <td>138</td>\n",
       "      <td>140</td>\n",
       "      <td>123</td>\n",
       "      <td>124</td>\n",
       "      <td>121</td>\n",
       "      <td>216</td>\n",
       "      <td>140</td>\n",
       "      <td>329</td>\n",
       "      <td>569</td>\n",
       "      <td>645</td>\n",
       "      <td>468</td>\n",
       "      <td>342</td>\n",
       "      <td>286</td>\n",
       "      <td>158</td>\n",
       "    </tr>\n",
       "    <tr>\n",
       "      <th>4</th>\n",
       "      <td>37064</td>\n",
       "      <td>771</td>\n",
       "      <td>302</td>\n",
       "      <td>623</td>\n",
       "      <td>512</td>\n",
       "      <td>609</td>\n",
       "      <td>630</td>\n",
       "      <td>721</td>\n",
       "      <td>495</td>\n",
       "      <td>567</td>\n",
       "      <td>1479</td>\n",
       "      <td>1784</td>\n",
       "      <td>2293</td>\n",
       "      <td>2338</td>\n",
       "      <td>2265</td>\n",
       "      <td>2394</td>\n",
       "      <td>3857</td>\n",
       "    </tr>\n",
       "  </tbody>\n",
       "</table>\n",
       "</div>"
      ],
      "text/plain": [
       "   zipcode  less than $10,000  $10,000 to $14,999  $15,000 to $19,999  \\\n",
       "0    37013               1424                1023                1197   \n",
       "1    37015                421                 256                 115   \n",
       "2    37027                460                 173                 246   \n",
       "3    37062                119                 122                 138   \n",
       "4    37064                771                 302                 623   \n",
       "\n",
       "   $20,000 to $24,999  $25,000 to $29,999  $30,000 to $34,999  \\\n",
       "0                1751                1647                1685   \n",
       "1                 415                 365                 452   \n",
       "2                 250                 254                 250   \n",
       "3                 140                 123                 124   \n",
       "4                 512                 609                 630   \n",
       "\n",
       "   $35,000 to $39,999  $40,000 to $44,999  $45,000 to $49,999  \\\n",
       "0                1748                1937                1748   \n",
       "1                 350                 277                 323   \n",
       "2                 316                 538                 472   \n",
       "3                 121                 216                 140   \n",
       "4                 721                 495                 567   \n",
       "\n",
       "   $50,000 to $59,999  $60,000 to $74,999  $75,000 to $99,999  \\\n",
       "0                3956                4510                5507   \n",
       "1                 719                 903                 903   \n",
       "2                 597                1235                1861   \n",
       "3                 329                 569                 645   \n",
       "4                1479                1784                2293   \n",
       "\n",
       "   $100,000 to $124,999  $125,000 to $149,999  $150,000 to $199,999  \\\n",
       "0                  3547                  1703                  1212   \n",
       "1                   639                   294                   157   \n",
       "2                  2167                  1688                  2837   \n",
       "3                   468                   342                   286   \n",
       "4                  2338                  2265                  2394   \n",
       "\n",
       "    more than $200,000  \n",
       "0                 1002  \n",
       "1                   84  \n",
       "2                 6606  \n",
       "3                  158  \n",
       "4                 3857  "
      ]
     },
     "execution_count": 772,
     "metadata": {},
     "output_type": "execute_result"
    }
   ],
   "source": [
    "##import income data from 2019\n",
    "income = pd.read_csv('income_clean.csv', usecols=[0, 1,2,3,4,5,6,7,8,9,10,11,12,13,14,15,16])\n",
    "income.head()\n",
    "\n",
    "## ANDREWS WAY TO IMPORT, CLEAN, TRANSPOSE ETC\n",
    "##income_data = pd.read_excel(\"data/household_income.xlsx\", skiprows = 1, header=[0, 1], sheet_name = 0)\n",
    "#income_data = income_data[income_data.columns.drop(list(income_data.filter(regex='Error')))]\n",
    "#income_data.columns = income_data.columns.droplevel(1)\n",
    "#income_clean = income_data.set_index('Unnamed: 0_level_0').T.reset_index().rename({\"index\": \"zipcode\"}, axis = 1)\n"
   ]
  },
  {
   "cell_type": "code",
   "execution_count": 773,
   "metadata": {},
   "outputs": [
    {
     "name": "stdout",
     "output_type": "stream",
     "text": [
      "<class 'pandas.core.frame.DataFrame'>\n",
      "RangeIndex: 39 entries, 0 to 38\n",
      "Data columns (total 17 columns):\n",
      " #   Column                Non-Null Count  Dtype\n",
      "---  ------                --------------  -----\n",
      " 0   zipcode               39 non-null     int64\n",
      " 1   less than $10,000     39 non-null     int64\n",
      " 2   $10,000 to $14,999    39 non-null     int64\n",
      " 3   $15,000 to $19,999    39 non-null     int64\n",
      " 4   $20,000 to $24,999    39 non-null     int64\n",
      " 5   $25,000 to $29,999    39 non-null     int64\n",
      " 6   $30,000 to $34,999    39 non-null     int64\n",
      " 7   $35,000 to $39,999    39 non-null     int64\n",
      " 8   $40,000 to $44,999    39 non-null     int64\n",
      " 9   $45,000 to $49,999    39 non-null     int64\n",
      " 10  $50,000 to $59,999    39 non-null     int64\n",
      " 11  $60,000 to $74,999    39 non-null     int64\n",
      " 12  $75,000 to $99,999    39 non-null     int64\n",
      " 13  $100,000 to $124,999  39 non-null     int64\n",
      " 14  $125,000 to $149,999  39 non-null     int64\n",
      " 15  $150,000 to $199,999  39 non-null     int64\n",
      " 16   more than $200,000   39 non-null     int64\n",
      "dtypes: int64(17)\n",
      "memory usage: 5.3 KB\n"
     ]
    },
    {
     "data": {
      "image/png": "[encoded data removed]",
      "text/plain": [
       "<Figure size 432x288 with 1 Axes>"
      ]
     },
     "metadata": {
      "needs_background": "light"
     },
     "output_type": "display_data"
    }
   ],
   "source": [
    "##testing all zip codes who makes >10k\n",
    "income.plot.bar('zipcode', 'less than $10,000')\n",
    "income.info()"
   ]
  },
  {
   "cell_type": "code",
   "execution_count": 733,
   "metadata": {},
   "outputs": [
    {
     "data": {
      "text/html": [
       "<div>\n",
       "<style scoped>\n",
       "    .dataframe tbody tr th:only-of-type {\n",
       "        vertical-align: middle;\n",
       "    }\n",
       "\n",
       "    .dataframe tbody tr th {\n",
       "        vertical-align: top;\n",
       "    }\n",
       "\n",
       "    .dataframe thead th {\n",
       "        text-align: right;\n",
       "    }\n",
       "</style>\n",
       "<table border=\"1\" class=\"dataframe\">\n",
       "  <thead>\n",
       "    <tr style=\"text-align: right;\">\n",
       "      <th></th>\n",
       "      <th>zipcode</th>\n",
       "      <th>total_vaccines_given</th>\n",
       "      <th>less than $10,000</th>\n",
       "      <th>$10,000 to $14,999</th>\n",
       "      <th>$15,000 to $19,999</th>\n",
       "      <th>$20,000 to $24,999</th>\n",
       "      <th>$25,000 to $29,999</th>\n",
       "      <th>$30,000 to $34,999</th>\n",
       "      <th>$35,000 to $39,999</th>\n",
       "      <th>$40,000 to $44,999</th>\n",
       "      <th>$45,000 to $49,999</th>\n",
       "      <th>$50,000 to $59,999</th>\n",
       "      <th>$60,000 to $74,999</th>\n",
       "      <th>$75,000 to $99,999</th>\n",
       "      <th>$100,000 to $124,999</th>\n",
       "      <th>$125,000 to $149,999</th>\n",
       "      <th>$150,000 to $199,999</th>\n",
       "      <th>more than $200,000</th>\n",
       "    </tr>\n",
       "  </thead>\n",
       "  <tbody>\n",
       "    <tr>\n",
       "      <th>0</th>\n",
       "      <td>37013.0</td>\n",
       "      <td>27167.0</td>\n",
       "      <td>1424.0</td>\n",
       "      <td>1023.0</td>\n",
       "      <td>1197.0</td>\n",
       "      <td>1751.0</td>\n",
       "      <td>1647.0</td>\n",
       "      <td>1685.0</td>\n",
       "      <td>1748.0</td>\n",
       "      <td>1937.0</td>\n",
       "      <td>1748.0</td>\n",
       "      <td>3956.0</td>\n",
       "      <td>4510.0</td>\n",
       "      <td>5507.0</td>\n",
       "      <td>3547.0</td>\n",
       "      <td>1703.0</td>\n",
       "      <td>1212.0</td>\n",
       "      <td>1002.0</td>\n",
       "    </tr>\n",
       "    <tr>\n",
       "      <th>1</th>\n",
       "      <td>37027.0</td>\n",
       "      <td>506.0</td>\n",
       "      <td>460.0</td>\n",
       "      <td>173.0</td>\n",
       "      <td>246.0</td>\n",
       "      <td>250.0</td>\n",
       "      <td>254.0</td>\n",
       "      <td>250.0</td>\n",
       "      <td>316.0</td>\n",
       "      <td>538.0</td>\n",
       "      <td>472.0</td>\n",
       "      <td>597.0</td>\n",
       "      <td>1235.0</td>\n",
       "      <td>1861.0</td>\n",
       "      <td>2167.0</td>\n",
       "      <td>1688.0</td>\n",
       "      <td>2837.0</td>\n",
       "      <td>6606.0</td>\n",
       "    </tr>\n",
       "    <tr>\n",
       "      <th>2</th>\n",
       "      <td>37069.0</td>\n",
       "      <td>89.0</td>\n",
       "      <td>NaN</td>\n",
       "      <td>NaN</td>\n",
       "      <td>NaN</td>\n",
       "      <td>NaN</td>\n",
       "      <td>NaN</td>\n",
       "      <td>NaN</td>\n",
       "      <td>NaN</td>\n",
       "      <td>NaN</td>\n",
       "      <td>NaN</td>\n",
       "      <td>NaN</td>\n",
       "      <td>NaN</td>\n",
       "      <td>NaN</td>\n",
       "      <td>NaN</td>\n",
       "      <td>NaN</td>\n",
       "      <td>NaN</td>\n",
       "      <td>NaN</td>\n",
       "    </tr>\n",
       "    <tr>\n",
       "      <th>3</th>\n",
       "      <td>37072.0</td>\n",
       "      <td>13108.0</td>\n",
       "      <td>534.0</td>\n",
       "      <td>412.0</td>\n",
       "      <td>456.0</td>\n",
       "      <td>674.0</td>\n",
       "      <td>687.0</td>\n",
       "      <td>506.0</td>\n",
       "      <td>518.0</td>\n",
       "      <td>568.0</td>\n",
       "      <td>544.0</td>\n",
       "      <td>1095.0</td>\n",
       "      <td>1311.0</td>\n",
       "      <td>2186.0</td>\n",
       "      <td>1120.0</td>\n",
       "      <td>784.0</td>\n",
       "      <td>652.0</td>\n",
       "      <td>486.0</td>\n",
       "    </tr>\n",
       "    <tr>\n",
       "      <th>4</th>\n",
       "      <td>37076.0</td>\n",
       "      <td>16855.0</td>\n",
       "      <td>698.0</td>\n",
       "      <td>405.0</td>\n",
       "      <td>626.0</td>\n",
       "      <td>496.0</td>\n",
       "      <td>946.0</td>\n",
       "      <td>740.0</td>\n",
       "      <td>912.0</td>\n",
       "      <td>662.0</td>\n",
       "      <td>918.0</td>\n",
       "      <td>1445.0</td>\n",
       "      <td>2146.0</td>\n",
       "      <td>2648.0</td>\n",
       "      <td>1709.0</td>\n",
       "      <td>1167.0</td>\n",
       "      <td>1193.0</td>\n",
       "      <td>678.0</td>\n",
       "    </tr>\n",
       "  </tbody>\n",
       "</table>\n",
       "</div>"
      ],
      "text/plain": [
       "   zipcode  total_vaccines_given  less than $10,000  $10,000 to $14,999  \\\n",
       "0  37013.0               27167.0             1424.0              1023.0   \n",
       "1  37027.0                 506.0              460.0               173.0   \n",
       "2  37069.0                  89.0                NaN                 NaN   \n",
       "3  37072.0               13108.0              534.0               412.0   \n",
       "4  37076.0               16855.0              698.0               405.0   \n",
       "\n",
       "   $15,000 to $19,999  $20,000 to $24,999  $25,000 to $29,999  \\\n",
       "0              1197.0              1751.0              1647.0   \n",
       "1               246.0               250.0               254.0   \n",
       "2                 NaN                 NaN                 NaN   \n",
       "3               456.0               674.0               687.0   \n",
       "4               626.0               496.0               946.0   \n",
       "\n",
       "   $30,000 to $34,999  $35,000 to $39,999  $40,000 to $44,999  \\\n",
       "0              1685.0              1748.0              1937.0   \n",
       "1               250.0               316.0               538.0   \n",
       "2                 NaN                 NaN                 NaN   \n",
       "3               506.0               518.0               568.0   \n",
       "4               740.0               912.0               662.0   \n",
       "\n",
       "   $45,000 to $49,999  $50,000 to $59,999  $60,000 to $74,999  \\\n",
       "0              1748.0              3956.0              4510.0   \n",
       "1               472.0               597.0              1235.0   \n",
       "2                 NaN                 NaN                 NaN   \n",
       "3               544.0              1095.0              1311.0   \n",
       "4               918.0              1445.0              2146.0   \n",
       "\n",
       "   $75,000 to $99,999  $100,000 to $124,999  $125,000 to $149,999  \\\n",
       "0              5507.0                3547.0                1703.0   \n",
       "1              1861.0                2167.0                1688.0   \n",
       "2                 NaN                   NaN                   NaN   \n",
       "3              2186.0                1120.0                 784.0   \n",
       "4              2648.0                1709.0                1167.0   \n",
       "\n",
       "   $150,000 to $199,999   more than $200,000  \n",
       "0                1212.0               1002.0  \n",
       "1                2837.0               6606.0  \n",
       "2                   NaN                  NaN  \n",
       "3                 652.0                486.0  \n",
       "4                1193.0                678.0  "
      ]
     },
     "execution_count": 733,
     "metadata": {},
     "output_type": "execute_result"
    }
   ],
   "source": [
    "##merge to try and see income and cases side by side per zip .. \n",
    "merge_df = most_vax_df.merge(income, on=[\"zipcode\"], how='left')\n",
    "merge_df.head()"
   ]
  },
  {
   "cell_type": "code",
   "execution_count": 734,
   "metadata": {},
   "outputs": [],
   "source": [
    "low_income = pd.DataFrame(merge_df, columns = ['less than $10,000', '$10,000 to $14,999','$20,000 to $24,999', '$25,000 to $29,999'])\n",
    "mid_income = pd.DataFrame(merge_df, columns = ['$30,000 to $34,999', '$35,000 to $39,999', '$40,000 to $44,999', '$45,000 to $49,999', '$50,000 to $59,999', '$60,000 to $74,999'])\n",
    "high_income = pd.DataFrame(merge_df, columns = ['$75,000 to $99,999','$100,000 to $124,999', '$125,000 to $149,999', '$150,000 to $199,999', 'more than $200,000'])\n",
    "\n"
   ]
  },
  {
   "cell_type": "code",
   "execution_count": 735,
   "metadata": {
    "scrolled": true
   },
   "outputs": [
    {
     "data": {
      "text/plain": [
       "<AxesSubplot:xlabel='zipcode'>"
      ]
     },
     "execution_count": 735,
     "metadata": {},
     "output_type": "execute_result"
    },
    {
     "data": {
      "image/png": "[encoded data removed]",
      "text/plain": [
       "<Figure size 1440x720 with 1 Axes>"
      ]
     },
     "metadata": {
      "needs_background": "light"
     },
     "output_type": "display_data"
    }
   ],
   "source": [
    "#stacking cases on top of particular income brackets\n",
    "\n",
    "merge_df.plot(x = 'zipcode', y = ['$100,000 to $124,999', 'total_vaccines_given', '$30,000 to $34,999'], kind='bar', width =1, figsize =(20,10))\n",
    "#example code below of stacking columns \n",
    "#df.plot(x=\"X\", y=[\"A\", \"B\", \"C\"], kind=\"bar\")"
   ]
  },
  {
   "cell_type": "code",
   "execution_count": 736,
   "metadata": {},
   "outputs": [
    {
     "data": {
      "text/plain": [
       "<matplotlib.collections.PathCollection at 0x26b45a6a340>"
      ]
     },
     "execution_count": 736,
     "metadata": {},
     "output_type": "execute_result"
    },
    {
     "data": {
      "image/png": "[encoded data removed]",
      "text/plain": [
       "<Figure size 432x288 with 1 Axes>"
      ]
     },
     "metadata": {
      "needs_background": "light"
     },
     "output_type": "display_data"
    }
   ],
   "source": [
    "plt.scatter(merge_df['less than $10,000'], merge_df['total_vaccines_given'])\n"
   ]
  },
  {
   "cell_type": "code",
   "execution_count": 739,
   "metadata": {},
   "outputs": [
    {
     "ename": "NameError",
     "evalue": "name 'vaccine_protocol' is not defined",
     "output_type": "error",
     "traceback": [
      "\u001b[1;31m---------------------------------------------------------------------------\u001b[0m",
      "\u001b[1;31mNameError\u001b[0m                                 Traceback (most recent call last)",
      "\u001b[1;32m<ipython-input-739-afa63d85f3a6>\u001b[0m in \u001b[0;36m<module>\u001b[1;34m\u001b[0m\n\u001b[1;32m----> 1\u001b[1;33m \u001b[0mvaccine_filter\u001b[0m \u001b[1;33m=\u001b[0m \u001b[0mvaccine_protocol\u001b[0m\u001b[1;33m[\u001b[0m\u001b[0mvaccine_protocol\u001b[0m\u001b[1;33m.\u001b[0m\u001b[0mdose_nbr\u001b[0m \u001b[1;33m==\u001b[0m \u001b[1;36m1.0\u001b[0m\u001b[1;33m]\u001b[0m\u001b[1;33m\u001b[0m\u001b[1;33m\u001b[0m\u001b[0m\n\u001b[0m\u001b[0;32m      2\u001b[0m \u001b[0mvaccine_filter\u001b[0m\u001b[1;33m\u001b[0m\u001b[1;33m\u001b[0m\u001b[0m\n",
      "\u001b[1;31mNameError\u001b[0m: name 'vaccine_protocol' is not defined"
     ]
    }
   ],
   "source": [
    "vaccine_filter = vaccine_protocol[vaccine_protocol.dose_nbr == 1.0]\n",
    "vaccine_filter\n"
   ]
  },
  {
   "cell_type": "code",
   "execution_count": null,
   "metadata": {},
   "outputs": [],
   "source": []
  }
 ],
 "metadata": {
  "kernelspec": {
   "display_name": "Python 3",
   "language": "python",
   "name": "python3"
  },
  "language_info": {
   "codemirror_mode": {
    "name": "ipython",
    "version": 3
   },
   "file_extension": ".py",
   "mimetype": "text/x-python",
   "name": "python",
   "nbconvert_exporter": "python",
   "pygments_lexer": "ipython3",
   "version": "3.8.5"
  }
 },
 "nbformat": 4,
 "nbformat_minor": 4
}
