{
 "cells": [
  {
   "cell_type": "code",
   "execution_count": 15,
   "metadata": {},
   "outputs": [],
   "source": [
    "#from shapely.geometry import Point\n",
    "import seaborn as sns\n",
    "import pandas as pd\n",
    "#import geopandas as gpd\n",
    "import matplotlib.pyplot as plt\n",
    "import matplotlib as mpl\n",
    "# import folium\n",
    "# from folium.plugins import MarkerCluster\n",
    "# from folium.plugins import FastMarkerCluster\n"
   ]
  },
  {
   "cell_type": "code",
   "execution_count": 16,
   "metadata": {},
   "outputs": [],
   "source": [
    "Covid_Count_df = pd.read_csv('covid_count.csv')\n"
   ]
  },
  {
   "cell_type": "code",
   "execution_count": null,
   "metadata": {},
   "outputs": [],
   "source": [
    "Covid_Count_df['Zip'] =Covid_Count_df['Zip']"
   ]
  },
  {
   "cell_type": "code",
   "execution_count": 17,
   "metadata": {},
   "outputs": [
    {
     "data": {
      "text/html": [
       "<div>\n",
       "<style scoped>\n",
       "    .dataframe tbody tr th:only-of-type {\n",
       "        vertical-align: middle;\n",
       "    }\n",
       "\n",
       "    .dataframe tbody tr th {\n",
       "        vertical-align: top;\n",
       "    }\n",
       "\n",
       "    .dataframe thead th {\n",
       "        text-align: right;\n",
       "    }\n",
       "</style>\n",
       "<table border=\"1\" class=\"dataframe\">\n",
       "  <thead>\n",
       "    <tr style=\"text-align: right;\">\n",
       "      <th></th>\n",
       "      <th>Specimen Collection Date</th>\n",
       "      <th>Zip</th>\n",
       "      <th>Cases</th>\n",
       "    </tr>\n",
       "  </thead>\n",
       "  <tbody>\n",
       "    <tr>\n",
       "      <th>0</th>\n",
       "      <td>3/6/2020</td>\n",
       "      <td>37217.0</td>\n",
       "      <td>1</td>\n",
       "    </tr>\n",
       "    <tr>\n",
       "      <th>1</th>\n",
       "      <td>3/10/2020</td>\n",
       "      <td>37214.0</td>\n",
       "      <td>1</td>\n",
       "    </tr>\n",
       "    <tr>\n",
       "      <th>2</th>\n",
       "      <td>3/11/2020</td>\n",
       "      <td>37013.0</td>\n",
       "      <td>1</td>\n",
       "    </tr>\n",
       "    <tr>\n",
       "      <th>3</th>\n",
       "      <td>3/11/2020</td>\n",
       "      <td>37204.0</td>\n",
       "      <td>2</td>\n",
       "    </tr>\n",
       "    <tr>\n",
       "      <th>4</th>\n",
       "      <td>3/11/2020</td>\n",
       "      <td>37205.0</td>\n",
       "      <td>1</td>\n",
       "    </tr>\n",
       "    <tr>\n",
       "      <th>5</th>\n",
       "      <td>3/11/2020</td>\n",
       "      <td>37210.0</td>\n",
       "      <td>1</td>\n",
       "    </tr>\n",
       "    <tr>\n",
       "      <th>6</th>\n",
       "      <td>3/11/2020</td>\n",
       "      <td>37212.0</td>\n",
       "      <td>2</td>\n",
       "    </tr>\n",
       "    <tr>\n",
       "      <th>7</th>\n",
       "      <td>3/11/2020</td>\n",
       "      <td>37214.0</td>\n",
       "      <td>1</td>\n",
       "    </tr>\n",
       "    <tr>\n",
       "      <th>8</th>\n",
       "      <td>3/11/2020</td>\n",
       "      <td>37215.0</td>\n",
       "      <td>3</td>\n",
       "    </tr>\n",
       "    <tr>\n",
       "      <th>9</th>\n",
       "      <td>3/12/2020</td>\n",
       "      <td>NaN</td>\n",
       "      <td>1</td>\n",
       "    </tr>\n",
       "  </tbody>\n",
       "</table>\n",
       "</div>"
      ],
      "text/plain": [
       "  Specimen Collection Date      Zip  Cases\n",
       "0                 3/6/2020  37217.0      1\n",
       "1                3/10/2020  37214.0      1\n",
       "2                3/11/2020  37013.0      1\n",
       "3                3/11/2020  37204.0      2\n",
       "4                3/11/2020  37205.0      1\n",
       "5                3/11/2020  37210.0      1\n",
       "6                3/11/2020  37212.0      2\n",
       "7                3/11/2020  37214.0      1\n",
       "8                3/11/2020  37215.0      3\n",
       "9                3/12/2020      NaN      1"
      ]
     },
     "execution_count": 17,
     "metadata": {},
     "output_type": "execute_result"
    }
   ],
   "source": [
    "Covid_Count_df.head(10)"
   ]
  },
  {
   "cell_type": "code",
   "execution_count": 18,
   "metadata": {},
   "outputs": [],
   "source": [
    "Vaccine_protocol = pd.read_csv ('vaccine_with_protocol.csv')"
   ]
  },
  {
   "cell_type": "code",
   "execution_count": 19,
   "metadata": {},
   "outputs": [
    {
     "data": {
      "text/html": [
       "<div>\n",
       "<style scoped>\n",
       "    .dataframe tbody tr th:only-of-type {\n",
       "        vertical-align: middle;\n",
       "    }\n",
       "\n",
       "    .dataframe tbody tr th {\n",
       "        vertical-align: top;\n",
       "    }\n",
       "\n",
       "    .dataframe thead th {\n",
       "        text-align: right;\n",
       "    }\n",
       "</style>\n",
       "<table border=\"1\" class=\"dataframe\">\n",
       "  <thead>\n",
       "    <tr style=\"text-align: right;\">\n",
       "      <th></th>\n",
       "      <th>vacc_date</th>\n",
       "      <th>zipcode</th>\n",
       "      <th>count_given</th>\n",
       "      <th>dose_nbr</th>\n",
       "      <th>protocol</th>\n",
       "    </tr>\n",
       "  </thead>\n",
       "  <tbody>\n",
       "    <tr>\n",
       "      <th>0</th>\n",
       "      <td>2020-12-12</td>\n",
       "      <td>37215.0</td>\n",
       "      <td>1.0</td>\n",
       "      <td>1.0</td>\n",
       "      <td>two-shot</td>\n",
       "    </tr>\n",
       "    <tr>\n",
       "      <th>1</th>\n",
       "      <td>2020-12-14</td>\n",
       "      <td>37205.0</td>\n",
       "      <td>1.0</td>\n",
       "      <td>2.0</td>\n",
       "      <td>two-shot</td>\n",
       "    </tr>\n",
       "    <tr>\n",
       "      <th>2</th>\n",
       "      <td>2020-12-14</td>\n",
       "      <td>37215.0</td>\n",
       "      <td>1.0</td>\n",
       "      <td>1.0</td>\n",
       "      <td>two-shot</td>\n",
       "    </tr>\n",
       "    <tr>\n",
       "      <th>3</th>\n",
       "      <td>2020-12-15</td>\n",
       "      <td>37221.0</td>\n",
       "      <td>1.0</td>\n",
       "      <td>1.0</td>\n",
       "      <td>two-shot</td>\n",
       "    </tr>\n",
       "    <tr>\n",
       "      <th>4</th>\n",
       "      <td>2020-12-16</td>\n",
       "      <td>37215.0</td>\n",
       "      <td>1.0</td>\n",
       "      <td>1.0</td>\n",
       "      <td>two-shot</td>\n",
       "    </tr>\n",
       "  </tbody>\n",
       "</table>\n",
       "</div>"
      ],
      "text/plain": [
       "    vacc_date  zipcode  count_given  dose_nbr  protocol\n",
       "0  2020-12-12  37215.0          1.0       1.0  two-shot\n",
       "1  2020-12-14  37205.0          1.0       2.0  two-shot\n",
       "2  2020-12-14  37215.0          1.0       1.0  two-shot\n",
       "3  2020-12-15  37221.0          1.0       1.0  two-shot\n",
       "4  2020-12-16  37215.0          1.0       1.0  two-shot"
      ]
     },
     "execution_count": 19,
     "metadata": {},
     "output_type": "execute_result"
    }
   ],
   "source": [
    "Vaccine_protocol.head()"
   ]
  },
  {
   "cell_type": "code",
   "execution_count": 20,
   "metadata": {},
   "outputs": [
    {
     "data": {
      "text/html": [
       "<div>\n",
       "<style scoped>\n",
       "    .dataframe tbody tr th:only-of-type {\n",
       "        vertical-align: middle;\n",
       "    }\n",
       "\n",
       "    .dataframe tbody tr th {\n",
       "        vertical-align: top;\n",
       "    }\n",
       "\n",
       "    .dataframe thead th {\n",
       "        text-align: right;\n",
       "    }\n",
       "</style>\n",
       "<table border=\"1\" class=\"dataframe\">\n",
       "  <thead>\n",
       "    <tr style=\"text-align: right;\">\n",
       "      <th></th>\n",
       "      <th>vacc_date</th>\n",
       "      <th>zipcode</th>\n",
       "      <th>count_given</th>\n",
       "      <th>dose_nbr</th>\n",
       "      <th>protocol</th>\n",
       "    </tr>\n",
       "  </thead>\n",
       "  <tbody>\n",
       "    <tr>\n",
       "      <th>0</th>\n",
       "      <td>2020-12-12</td>\n",
       "      <td>37215.0</td>\n",
       "      <td>1.0</td>\n",
       "      <td>1.0</td>\n",
       "      <td>two-shot</td>\n",
       "    </tr>\n",
       "    <tr>\n",
       "      <th>2</th>\n",
       "      <td>2020-12-14</td>\n",
       "      <td>37215.0</td>\n",
       "      <td>1.0</td>\n",
       "      <td>1.0</td>\n",
       "      <td>two-shot</td>\n",
       "    </tr>\n",
       "    <tr>\n",
       "      <th>3</th>\n",
       "      <td>2020-12-15</td>\n",
       "      <td>37221.0</td>\n",
       "      <td>1.0</td>\n",
       "      <td>1.0</td>\n",
       "      <td>two-shot</td>\n",
       "    </tr>\n",
       "    <tr>\n",
       "      <th>4</th>\n",
       "      <td>2020-12-16</td>\n",
       "      <td>37215.0</td>\n",
       "      <td>1.0</td>\n",
       "      <td>1.0</td>\n",
       "      <td>two-shot</td>\n",
       "    </tr>\n",
       "    <tr>\n",
       "      <th>5</th>\n",
       "      <td>2020-12-17</td>\n",
       "      <td>37013.0</td>\n",
       "      <td>16.0</td>\n",
       "      <td>1.0</td>\n",
       "      <td>two-shot</td>\n",
       "    </tr>\n",
       "    <tr>\n",
       "      <th>...</th>\n",
       "      <td>...</td>\n",
       "      <td>...</td>\n",
       "      <td>...</td>\n",
       "      <td>...</td>\n",
       "      <td>...</td>\n",
       "    </tr>\n",
       "    <tr>\n",
       "      <th>6686</th>\n",
       "      <td>2021-04-07</td>\n",
       "      <td>37221.0</td>\n",
       "      <td>81.0</td>\n",
       "      <td>1.0</td>\n",
       "      <td>two-shot</td>\n",
       "    </tr>\n",
       "    <tr>\n",
       "      <th>6687</th>\n",
       "      <td>2021-04-07</td>\n",
       "      <td>37221.0</td>\n",
       "      <td>2.0</td>\n",
       "      <td>1.0</td>\n",
       "      <td>one-shot</td>\n",
       "    </tr>\n",
       "    <tr>\n",
       "      <th>6689</th>\n",
       "      <td>2021-04-07</td>\n",
       "      <td>37228.0</td>\n",
       "      <td>9.0</td>\n",
       "      <td>1.0</td>\n",
       "      <td>two-shot</td>\n",
       "    </tr>\n",
       "    <tr>\n",
       "      <th>6691</th>\n",
       "      <td>2021-04-07</td>\n",
       "      <td>NaN</td>\n",
       "      <td>8.0</td>\n",
       "      <td>1.0</td>\n",
       "      <td>two-shot</td>\n",
       "    </tr>\n",
       "    <tr>\n",
       "      <th>6692</th>\n",
       "      <td>2021-04-07</td>\n",
       "      <td>NaN</td>\n",
       "      <td>1.0</td>\n",
       "      <td>1.0</td>\n",
       "      <td>one-shot</td>\n",
       "    </tr>\n",
       "  </tbody>\n",
       "</table>\n",
       "<p>3967 rows × 5 columns</p>\n",
       "</div>"
      ],
      "text/plain": [
       "       vacc_date  zipcode  count_given  dose_nbr  protocol\n",
       "0     2020-12-12  37215.0          1.0       1.0  two-shot\n",
       "2     2020-12-14  37215.0          1.0       1.0  two-shot\n",
       "3     2020-12-15  37221.0          1.0       1.0  two-shot\n",
       "4     2020-12-16  37215.0          1.0       1.0  two-shot\n",
       "5     2020-12-17  37013.0         16.0       1.0  two-shot\n",
       "...          ...      ...          ...       ...       ...\n",
       "6686  2021-04-07  37221.0         81.0       1.0  two-shot\n",
       "6687  2021-04-07  37221.0          2.0       1.0  one-shot\n",
       "6689  2021-04-07  37228.0          9.0       1.0  two-shot\n",
       "6691  2021-04-07      NaN          8.0       1.0  two-shot\n",
       "6692  2021-04-07      NaN          1.0       1.0  one-shot\n",
       "\n",
       "[3967 rows x 5 columns]"
      ]
     },
     "execution_count": 20,
     "metadata": {},
     "output_type": "execute_result"
    }
   ],
   "source": [
    "Vaccine_filter = Vaccine_protocol[Vaccine_protocol.dose_nbr == 1.0]\n",
    "Vaccine_filter.head()\n",
    "Vaccine_filter\n"
   ]
  },
  {
   "cell_type": "code",
   "execution_count": 21,
   "metadata": {},
   "outputs": [
    {
     "name": "stdout",
     "output_type": "stream",
     "text": [
      "<class 'pandas.core.frame.DataFrame'>\n",
      "RangeIndex: 8832 entries, 0 to 8831\n",
      "Data columns (total 3 columns):\n",
      " #   Column                    Non-Null Count  Dtype  \n",
      "---  ------                    --------------  -----  \n",
      " 0   Specimen Collection Date  8832 non-null   object \n",
      " 1   Zip                       8456 non-null   float64\n",
      " 2   Cases                     8832 non-null   int64  \n",
      "dtypes: float64(1), int64(1), object(1)\n",
      "memory usage: 207.1+ KB\n"
     ]
    }
   ],
   "source": [
    "Covid_Count_df.info()"
   ]
  },
  {
   "cell_type": "code",
   "execution_count": 22,
   "metadata": {},
   "outputs": [
    {
     "data": {
      "text/plain": [
       "(8832, 3)"
      ]
     },
     "execution_count": 22,
     "metadata": {},
     "output_type": "execute_result"
    }
   ],
   "source": [
    "Covid_Count_df.shape"
   ]
  },
  {
   "cell_type": "code",
   "execution_count": 31,
   "metadata": {},
   "outputs": [],
   "source": [
    "#Andrew's code \n",
    "income_data = pd.read_excel(\"income_data.xlsx\", skiprows = 1, header=[0, 1], sheet_name = 1)\n",
    "income_data = income_data[income_data.columns.drop(list(income_data.filter(regex='Error')))]\n",
    "income_data.columns = income_data.columns.droplevel(1)\n",
    "income_clean = income_data.set_index('Unnamed: 0_level_0').T.reset_index().rename({\"index\": \"zipcode\"}, axis = 1)\n",
    "\n",
    "#T in the last code to mean Transpose "
   ]
  },
  {
   "cell_type": "code",
   "execution_count": 37,
   "metadata": {},
   "outputs": [],
   "source": [
    "income_clean['zipcode'] =income_clean['zipcode'].astype(float)\n"
   ]
  },
  {
   "cell_type": "code",
   "execution_count": 38,
   "metadata": {},
   "outputs": [],
   "source": [
    "Merged_IC_df = pd.merge(left = Covid_Count_df, right = income_clean, \n",
    "                    left_on = 'Zip', right_on = 'zipcode')"
   ]
  },
  {
   "cell_type": "code",
   "execution_count": 39,
   "metadata": {},
   "outputs": [
    {
     "data": {
      "text/html": [
       "<div>\n",
       "<style scoped>\n",
       "    .dataframe tbody tr th:only-of-type {\n",
       "        vertical-align: middle;\n",
       "    }\n",
       "\n",
       "    .dataframe tbody tr th {\n",
       "        vertical-align: top;\n",
       "    }\n",
       "\n",
       "    .dataframe thead th {\n",
       "        text-align: right;\n",
       "    }\n",
       "</style>\n",
       "<table border=\"1\" class=\"dataframe\">\n",
       "  <thead>\n",
       "    <tr style=\"text-align: right;\">\n",
       "      <th></th>\n",
       "      <th>Specimen Collection Date</th>\n",
       "      <th>Zip</th>\n",
       "      <th>Cases</th>\n",
       "      <th>zipcode</th>\n",
       "      <th>Total:</th>\n",
       "      <th>Less than $10,000</th>\n",
       "      <th>$10,000 to $14,999</th>\n",
       "      <th>$15,000 to $19,999</th>\n",
       "      <th>$20,000 to $24,999</th>\n",
       "      <th>$25,000 to $29,999</th>\n",
       "      <th>...</th>\n",
       "      <th>$40,000 to $44,999</th>\n",
       "      <th>$45,000 to $49,999</th>\n",
       "      <th>$50,000 to $59,999</th>\n",
       "      <th>$60,000 to $74,999</th>\n",
       "      <th>$75,000 to $99,999</th>\n",
       "      <th>$100,000 to $124,999</th>\n",
       "      <th>$125,000 to $149,999</th>\n",
       "      <th>$150,000 to $199,999</th>\n",
       "      <th>$200,000 or more</th>\n",
       "      <th>* Base value of zero; no percentage available</th>\n",
       "    </tr>\n",
       "  </thead>\n",
       "  <tbody>\n",
       "    <tr>\n",
       "      <th>0</th>\n",
       "      <td>3/6/2020</td>\n",
       "      <td>37217.0</td>\n",
       "      <td>1</td>\n",
       "      <td>37217.0</td>\n",
       "      <td>1</td>\n",
       "      <td>0.0408982</td>\n",
       "      <td>0.0378508</td>\n",
       "      <td>0.0363272</td>\n",
       "      <td>0.0518043</td>\n",
       "      <td>0.0591018</td>\n",
       "      <td>...</td>\n",
       "      <td>0.0850842</td>\n",
       "      <td>0.0717723</td>\n",
       "      <td>0.096231</td>\n",
       "      <td>0.102807</td>\n",
       "      <td>0.151885</td>\n",
       "      <td>0.0666399</td>\n",
       "      <td>0.0378508</td>\n",
       "      <td>0.0178027</td>\n",
       "      <td>0.0128308</td>\n",
       "      <td>NaN</td>\n",
       "    </tr>\n",
       "    <tr>\n",
       "      <th>1</th>\n",
       "      <td>3/12/2020</td>\n",
       "      <td>37217.0</td>\n",
       "      <td>1</td>\n",
       "      <td>37217.0</td>\n",
       "      <td>1</td>\n",
       "      <td>0.0408982</td>\n",
       "      <td>0.0378508</td>\n",
       "      <td>0.0363272</td>\n",
       "      <td>0.0518043</td>\n",
       "      <td>0.0591018</td>\n",
       "      <td>...</td>\n",
       "      <td>0.0850842</td>\n",
       "      <td>0.0717723</td>\n",
       "      <td>0.096231</td>\n",
       "      <td>0.102807</td>\n",
       "      <td>0.151885</td>\n",
       "      <td>0.0666399</td>\n",
       "      <td>0.0378508</td>\n",
       "      <td>0.0178027</td>\n",
       "      <td>0.0128308</td>\n",
       "      <td>NaN</td>\n",
       "    </tr>\n",
       "    <tr>\n",
       "      <th>2</th>\n",
       "      <td>3/17/2020</td>\n",
       "      <td>37217.0</td>\n",
       "      <td>1</td>\n",
       "      <td>37217.0</td>\n",
       "      <td>1</td>\n",
       "      <td>0.0408982</td>\n",
       "      <td>0.0378508</td>\n",
       "      <td>0.0363272</td>\n",
       "      <td>0.0518043</td>\n",
       "      <td>0.0591018</td>\n",
       "      <td>...</td>\n",
       "      <td>0.0850842</td>\n",
       "      <td>0.0717723</td>\n",
       "      <td>0.096231</td>\n",
       "      <td>0.102807</td>\n",
       "      <td>0.151885</td>\n",
       "      <td>0.0666399</td>\n",
       "      <td>0.0378508</td>\n",
       "      <td>0.0178027</td>\n",
       "      <td>0.0128308</td>\n",
       "      <td>NaN</td>\n",
       "    </tr>\n",
       "    <tr>\n",
       "      <th>3</th>\n",
       "      <td>3/18/2020</td>\n",
       "      <td>37217.0</td>\n",
       "      <td>2</td>\n",
       "      <td>37217.0</td>\n",
       "      <td>1</td>\n",
       "      <td>0.0408982</td>\n",
       "      <td>0.0378508</td>\n",
       "      <td>0.0363272</td>\n",
       "      <td>0.0518043</td>\n",
       "      <td>0.0591018</td>\n",
       "      <td>...</td>\n",
       "      <td>0.0850842</td>\n",
       "      <td>0.0717723</td>\n",
       "      <td>0.096231</td>\n",
       "      <td>0.102807</td>\n",
       "      <td>0.151885</td>\n",
       "      <td>0.0666399</td>\n",
       "      <td>0.0378508</td>\n",
       "      <td>0.0178027</td>\n",
       "      <td>0.0128308</td>\n",
       "      <td>NaN</td>\n",
       "    </tr>\n",
       "    <tr>\n",
       "      <th>4</th>\n",
       "      <td>3/19/2020</td>\n",
       "      <td>37217.0</td>\n",
       "      <td>6</td>\n",
       "      <td>37217.0</td>\n",
       "      <td>1</td>\n",
       "      <td>0.0408982</td>\n",
       "      <td>0.0378508</td>\n",
       "      <td>0.0363272</td>\n",
       "      <td>0.0518043</td>\n",
       "      <td>0.0591018</td>\n",
       "      <td>...</td>\n",
       "      <td>0.0850842</td>\n",
       "      <td>0.0717723</td>\n",
       "      <td>0.096231</td>\n",
       "      <td>0.102807</td>\n",
       "      <td>0.151885</td>\n",
       "      <td>0.0666399</td>\n",
       "      <td>0.0378508</td>\n",
       "      <td>0.0178027</td>\n",
       "      <td>0.0128308</td>\n",
       "      <td>NaN</td>\n",
       "    </tr>\n",
       "  </tbody>\n",
       "</table>\n",
       "<p>5 rows × 22 columns</p>\n",
       "</div>"
      ],
      "text/plain": [
       "  Specimen Collection Date      Zip  Cases  zipcode Total: Less than $10,000  \\\n",
       "0                 3/6/2020  37217.0      1  37217.0      1         0.0408982   \n",
       "1                3/12/2020  37217.0      1  37217.0      1         0.0408982   \n",
       "2                3/17/2020  37217.0      1  37217.0      1         0.0408982   \n",
       "3                3/18/2020  37217.0      2  37217.0      1         0.0408982   \n",
       "4                3/19/2020  37217.0      6  37217.0      1         0.0408982   \n",
       "\n",
       "  $10,000 to $14,999 $15,000 to $19,999 $20,000 to $24,999 $25,000 to $29,999  \\\n",
       "0          0.0378508          0.0363272          0.0518043          0.0591018   \n",
       "1          0.0378508          0.0363272          0.0518043          0.0591018   \n",
       "2          0.0378508          0.0363272          0.0518043          0.0591018   \n",
       "3          0.0378508          0.0363272          0.0518043          0.0591018   \n",
       "4          0.0378508          0.0363272          0.0518043          0.0591018   \n",
       "\n",
       "   ... $40,000 to $44,999 $45,000 to $49,999 $50,000 to $59,999  \\\n",
       "0  ...          0.0850842          0.0717723           0.096231   \n",
       "1  ...          0.0850842          0.0717723           0.096231   \n",
       "2  ...          0.0850842          0.0717723           0.096231   \n",
       "3  ...          0.0850842          0.0717723           0.096231   \n",
       "4  ...          0.0850842          0.0717723           0.096231   \n",
       "\n",
       "  $60,000 to $74,999 $75,000 to $99,999 $100,000 to $124,999  \\\n",
       "0           0.102807           0.151885            0.0666399   \n",
       "1           0.102807           0.151885            0.0666399   \n",
       "2           0.102807           0.151885            0.0666399   \n",
       "3           0.102807           0.151885            0.0666399   \n",
       "4           0.102807           0.151885            0.0666399   \n",
       "\n",
       "  $125,000 to $149,999 $150,000 to $199,999 $200,000 or more  \\\n",
       "0            0.0378508            0.0178027        0.0128308   \n",
       "1            0.0378508            0.0178027        0.0128308   \n",
       "2            0.0378508            0.0178027        0.0128308   \n",
       "3            0.0378508            0.0178027        0.0128308   \n",
       "4            0.0378508            0.0178027        0.0128308   \n",
       "\n",
       "  * Base value of zero; no percentage available  \n",
       "0                                           NaN  \n",
       "1                                           NaN  \n",
       "2                                           NaN  \n",
       "3                                           NaN  \n",
       "4                                           NaN  \n",
       "\n",
       "[5 rows x 22 columns]"
      ]
     },
     "execution_count": 39,
     "metadata": {},
     "output_type": "execute_result"
    }
   ],
   "source": [
    "Merged_IC_df.head()"
   ]
  },
  {
   "cell_type": "code",
   "execution_count": 40,
   "metadata": {},
   "outputs": [
    {
     "ename": "AttributeError",
     "evalue": "module 'seaborn' has no attribute 'corr'",
     "output_type": "error",
     "traceback": [
      "\u001b[1;31m---------------------------------------------------------------------------\u001b[0m",
      "\u001b[1;31mAttributeError\u001b[0m                            Traceback (most recent call last)",
      "\u001b[1;32m<ipython-input-40-5af0ecb6e1d5>\u001b[0m in \u001b[0;36m<module>\u001b[1;34m\u001b[0m\n\u001b[1;32m----> 1\u001b[1;33m \u001b[0msns\u001b[0m\u001b[1;33m.\u001b[0m\u001b[0mcorr\u001b[0m\u001b[1;33m(\u001b[0m\u001b[0mMerged_IC_df\u001b[0m\u001b[1;33m)\u001b[0m\u001b[1;33m\u001b[0m\u001b[1;33m\u001b[0m\u001b[0m\n\u001b[0m",
      "\u001b[1;31mAttributeError\u001b[0m: module 'seaborn' has no attribute 'corr'"
     ]
    }
   ],
   "source": [
    "sns.corr(Merged_IC_df)"
   ]
  },
  {
   "cell_type": "code",
   "execution_count": null,
   "metadata": {},
   "outputs": [],
   "source": []
  },
  {
   "cell_type": "code",
   "execution_count": null,
   "metadata": {},
   "outputs": [],
   "source": []
  },
  {
   "cell_type": "code",
   "execution_count": null,
   "metadata": {},
   "outputs": [],
   "source": []
  },
  {
   "cell_type": "code",
   "execution_count": null,
   "metadata": {},
   "outputs": [],
   "source": []
  },
  {
   "cell_type": "code",
   "execution_count": null,
   "metadata": {},
   "outputs": [],
   "source": []
  },
  {
   "cell_type": "code",
   "execution_count": null,
   "metadata": {},
   "outputs": [],
   "source": []
  },
  {
   "cell_type": "code",
   "execution_count": 24,
   "metadata": {},
   "outputs": [
    {
     "name": "stdout",
     "output_type": "stream",
     "text": [
      "<class 'pandas.core.frame.DataFrame'>\n",
      "RangeIndex: 6694 entries, 0 to 6693\n",
      "Data columns (total 5 columns):\n",
      " #   Column       Non-Null Count  Dtype  \n",
      "---  ------       --------------  -----  \n",
      " 0   vacc_date    6694 non-null   object \n",
      " 1   zipcode      6462 non-null   float64\n",
      " 2   count_given  6686 non-null   float64\n",
      " 3   dose_nbr     6686 non-null   float64\n",
      " 4   protocol     6694 non-null   object \n",
      "dtypes: float64(3), object(2)\n",
      "memory usage: 261.6+ KB\n"
     ]
    }
   ],
   "source": [
    "Vaccine_protocol.info()"
   ]
  },
  {
   "cell_type": "code",
   "execution_count": 25,
   "metadata": {},
   "outputs": [
    {
     "data": {
      "text/plain": [
       "Specimen Collection Date      0\n",
       "Zip                         376\n",
       "Cases                         0\n",
       "dtype: int64"
      ]
     },
     "execution_count": 25,
     "metadata": {},
     "output_type": "execute_result"
    }
   ],
   "source": [
    "Covid_Vacine_ByZip.isnull().sum()\n"
   ]
  },
  {
   "cell_type": "code",
   "execution_count": 26,
   "metadata": {},
   "outputs": [
    {
     "data": {
      "text/plain": [
       "vacc_date        0\n",
       "zipcode        232\n",
       "count_given      8\n",
       "dose_nbr         8\n",
       "protocol         0\n",
       "dtype: int64"
      ]
     },
     "execution_count": 26,
     "metadata": {},
     "output_type": "execute_result"
    }
   ],
   "source": [
    "Vaccine_protocol.isnull().sum()"
   ]
  },
  {
   "cell_type": "code",
   "execution_count": 27,
   "metadata": {},
   "outputs": [
    {
     "data": {
      "text/html": [
       "<div>\n",
       "<style scoped>\n",
       "    .dataframe tbody tr th:only-of-type {\n",
       "        vertical-align: middle;\n",
       "    }\n",
       "\n",
       "    .dataframe tbody tr th {\n",
       "        vertical-align: top;\n",
       "    }\n",
       "\n",
       "    .dataframe thead th {\n",
       "        text-align: right;\n",
       "    }\n",
       "</style>\n",
       "<table border=\"1\" class=\"dataframe\">\n",
       "  <thead>\n",
       "    <tr style=\"text-align: right;\">\n",
       "      <th></th>\n",
       "      <th>Zip</th>\n",
       "      <th>Cases</th>\n",
       "    </tr>\n",
       "  </thead>\n",
       "  <tbody>\n",
       "    <tr>\n",
       "      <th>count</th>\n",
       "      <td>8456.000000</td>\n",
       "      <td>8832.000000</td>\n",
       "    </tr>\n",
       "    <tr>\n",
       "      <th>mean</th>\n",
       "      <td>37177.833254</td>\n",
       "      <td>10.599977</td>\n",
       "    </tr>\n",
       "    <tr>\n",
       "      <th>std</th>\n",
       "      <td>61.642481</td>\n",
       "      <td>15.487583</td>\n",
       "    </tr>\n",
       "    <tr>\n",
       "      <th>min</th>\n",
       "      <td>37013.000000</td>\n",
       "      <td>1.000000</td>\n",
       "    </tr>\n",
       "    <tr>\n",
       "      <th>25%</th>\n",
       "      <td>37189.000000</td>\n",
       "      <td>2.000000</td>\n",
       "    </tr>\n",
       "    <tr>\n",
       "      <th>50%</th>\n",
       "      <td>37208.000000</td>\n",
       "      <td>5.000000</td>\n",
       "    </tr>\n",
       "    <tr>\n",
       "      <th>75%</th>\n",
       "      <td>37215.000000</td>\n",
       "      <td>13.000000</td>\n",
       "    </tr>\n",
       "    <tr>\n",
       "      <th>max</th>\n",
       "      <td>37238.000000</td>\n",
       "      <td>272.000000</td>\n",
       "    </tr>\n",
       "  </tbody>\n",
       "</table>\n",
       "</div>"
      ],
      "text/plain": [
       "                Zip        Cases\n",
       "count   8456.000000  8832.000000\n",
       "mean   37177.833254    10.599977\n",
       "std       61.642481    15.487583\n",
       "min    37013.000000     1.000000\n",
       "25%    37189.000000     2.000000\n",
       "50%    37208.000000     5.000000\n",
       "75%    37215.000000    13.000000\n",
       "max    37238.000000   272.000000"
      ]
     },
     "execution_count": 27,
     "metadata": {},
     "output_type": "execute_result"
    }
   ],
   "source": [
    "Covid_Vacine_ByZip.describe()"
   ]
  },
  {
   "cell_type": "code",
   "execution_count": 14,
   "metadata": {},
   "outputs": [
    {
     "data": {
      "text/plain": [
       "31"
      ]
     },
     "execution_count": 14,
     "metadata": {},
     "output_type": "execute_result"
    }
   ],
   "source": [
    "Covid_Vacine_ByZip.Zip.nunique()"
   ]
  },
  {
   "cell_type": "code",
   "execution_count": 34,
   "metadata": {},
   "outputs": [
    {
     "name": "stdout",
     "output_type": "stream",
     "text": [
      "zipcode\n",
      "37013.0    27167.0\n",
      "37027.0      506.0\n",
      "37069.0       89.0\n",
      "37072.0    13108.0\n",
      "37076.0    16855.0\n",
      "37080.0     3078.0\n",
      "37115.0    12827.0\n",
      "37138.0    10873.0\n",
      "37189.0     1650.0\n",
      "37201.0      756.0\n",
      "37203.0    11678.0\n",
      "37204.0     9723.0\n",
      "37205.0    24451.0\n",
      "37206.0    14310.0\n",
      "37207.0    13888.0\n",
      "37208.0     8262.0\n",
      "37209.0    20553.0\n",
      "37210.0     5493.0\n",
      "37211.0    28477.0\n",
      "37212.0    10877.0\n",
      "37213.0      102.0\n",
      "37214.0    13573.0\n",
      "37215.0    19915.0\n",
      "37216.0    10253.0\n",
      "37217.0     8613.0\n",
      "37218.0     6987.0\n",
      "37219.0      891.0\n",
      "37220.0     5190.0\n",
      "37221.0    27622.0\n",
      "37228.0     1040.0\n",
      "37238.0        5.0\n",
      "Name: count_given, dtype: float64\n"
     ]
    }
   ],
   "source": [
    "#Covid_Vacine_ByZip.groupby(by=Covid_Vacine_ByZip.Zip, axis=0).sum()\n",
    "\n",
    "most_vax_given = Vaccine_protocol.groupby('zipcode')['count_given'].sum()\n",
    "\n",
    "print(most_vax_given)"
   ]
  },
  {
   "cell_type": "code",
   "execution_count": 58,
   "metadata": {},
   "outputs": [
    {
     "data": {
      "text/plain": [
       "<AxesSubplot:xlabel='count_given'>"
      ]
     },
     "execution_count": 58,
     "metadata": {},
     "output_type": "execute_result"
    },
    {
     "data": {
      "image/png": "[encoded data removed]",
      "text/plain": [
       "<Figure size 432x288 with 1 Axes>"
      ]
     },
     "metadata": {},
     "output_type": "display_data"
    }
   ],
   "source": [
    "Vaccine_protocol.plot(x='count_given',y='zipcode')"
   ]
  },
  {
   "cell_type": "code",
   "execution_count": null,
   "metadata": {},
   "outputs": [],
   "source": []
  }
 ],
 "metadata": {
  "kernelspec": {
   "display_name": "Python 3",
   "language": "python",
   "name": "python3"
  },
  "language_info": {
   "codemirror_mode": {
    "name": "ipython",
    "version": 3
   },
   "file_extension": ".py",
   "mimetype": "text/x-python",
   "name": "python",
   "nbconvert_exporter": "python",
   "pygments_lexer": "ipython3",
   "version": "3.8.5"
  }
 },
 "nbformat": 4,
 "nbformat_minor": 4
}
